{
 "cells": [
  {
   "cell_type": "code",
   "execution_count": 189,
   "id": "678970bc",
   "metadata": {
    "scrolled": true
   },
   "outputs": [],
   "source": [
    "import geopandas as gpd\n",
    "import maup\n",
    "\n",
    "voting_data = gpd.read_file(\"/Users/sherzodnimatullo/Downloads/fl_prim_20_prec/fl_prim_20_cong_prec.shp\")\n",
    "precincts = gpd.read_file(\"/Users/sherzodnimatullo/code/projects/416/gerrychain/shapefiles/processed/florida/FL_VTDs.shp\")"
   ]
  },
  {
   "cell_type": "code",
   "execution_count": 3,
   "id": "409d227a",
   "metadata": {
    "scrolled": true
   },
   "outputs": [
    {
     "data": {
      "text/plain": [
       "Index(['UNIQUE_ID', 'COUNTYFP', 'pct_std', 'county', 'precinct', 'CONG_DIST',\n",
       "       'PCON01RGAE', 'PCON01RMER', 'PCON01RMIL', 'PCON03DCHR', 'PCON03DDOD',\n",
       "       'PCON03DWEL', 'PCON03RCAM', 'PCON03RCHM', 'PCON03RCHS', 'PCON03RENG',\n",
       "       'PCON03RGEO', 'PCON03RMIL', 'PCON03RROL', 'PCON03RSAP', 'PCON03RTHE',\n",
       "       'PCON03RWEL', 'PCON04RAGU', 'PCON04RRUT', 'PCON05DCHE', 'PCON05DHOL',\n",
       "       'PCON05DLAW', 'PCON05RADL', 'PCON05RWAG', 'PCON06DCUR', 'PCON06DTHR',\n",
       "       'PCON07RGOB', 'PCON07RVAL', 'PCON07RZHA', 'PCON08RCAI', 'PCON08RPOS',\n",
       "       'PCON09RCAS', 'PCON09ROLS', 'PCON09RORT', 'PCON09RWRI', 'PCON10RFRA',\n",
       "       'PCON10RMON', 'PCON13RBUC', 'PCON13RGRI', 'PCON13RLUN', 'PCON13RMAK',\n",
       "       'PCON13RNEW', 'PCON14RELL', 'PCON14RQUI', 'PCON15DCOH', 'PCON15DHAT',\n",
       "       'PCON15DPHI', 'PCON15RFRA', 'PCON15RSPA', 'PCON18DKEI', 'PCON18DVAZ',\n",
       "       'PCON18RMAS', 'PCON18RVES', 'PCON19DBAN', 'PCON19DHOL', 'PCON19RAQU',\n",
       "       'PCON19RASK', 'PCON19RDON', 'PCON19REAG', 'PCON19RFIG', 'PCON19RHEN',\n",
       "       'PCON19RKOW', 'PCON19RMCL', 'PCON19RSEV', 'PCON20DCHE', 'PCON20DHAS',\n",
       "       'PCON20RDEG', 'PCON20RMUS', 'PCON21DFRA', 'PCON21DWEI', 'PCON21RACO',\n",
       "       'PCON21RFEL', 'PCON21RLOO', 'PCON21RSCA', 'PCON21RSHE', 'PCON21RVIL',\n",
       "       'PCON22RFLY', 'PCON22RMEL', 'PCON22RPRU', 'PCON22RSWA', 'PCON23DPER',\n",
       "       'PCON23DSCH', 'PCON23RKRO', 'PCON23RSPA', 'PCON24DFUE', 'PCON24DLEH',\n",
       "       'PCON24DWIL', 'PCON26RBLA', 'PCON26RGIM', 'PCON27RFIO', 'PCON27RMOL',\n",
       "       'PCON27RSAL', 'geometry'],\n",
       "      dtype='object')"
      ]
     },
     "execution_count": 3,
     "metadata": {},
     "output_type": "execute_result"
    }
   ],
   "source": [
    "voting_data.columns"
   ]
  },
  {
   "cell_type": "code",
   "execution_count": 4,
   "id": "9ddd0555",
   "metadata": {},
   "outputs": [],
   "source": [
    "voting_data.to_crs(precincts.crs, inplace=True)"
   ]
  },
  {
   "cell_type": "code",
   "execution_count": 190,
   "id": "abbe27fb",
   "metadata": {
    "scrolled": false
   },
   "outputs": [
    {
     "name": "stderr",
     "output_type": "stream",
     "text": [
      "/Users/sherzodnimatullo/code/projects/416/gerrychain/env/lib/python3.10/site-packages/maup/indexed_geometries.py:16: ShapelyDeprecationWarning: Setting custom attributes on geometry objects is deprecated, and will raise an AttributeError in Shapely 2.0\n",
      "  geometry.index = i\n",
      "/Users/sherzodnimatullo/code/projects/416/gerrychain/env/lib/python3.10/site-packages/maup/indexed_geometries.py:17: ShapelyDeprecationWarning: STRtree will be changed in 2.0.0 and will not be compatible with versions < 2.\n",
      "  self.spatial_index = STRtree(self.geometries)\n",
      "/Users/sherzodnimatullo/code/projects/416/gerrychain/env/lib/python3.10/site-packages/maup/indexed_geometries.py:17: ShapelyDeprecationWarning: STRtree will be changed in 2.0.0 and will not be compatible with versions < 2.\n",
      "  self.spatial_index = STRtree(self.geometries)\n",
      "/Users/sherzodnimatullo/code/projects/416/gerrychain/env/lib/python3.10/site-packages/maup/intersections.py:42: UserWarning: Geometry is in a geographic CRS. Results from 'area' are likely incorrect. Use 'GeoSeries.to_crs()' to re-project geometries to a projected CRS before this operation.\n",
      "\n",
      "  geometries = geometries[geometries.area > area_cutoff]\n",
      "/Users/sherzodnimatullo/code/projects/416/gerrychain/env/lib/python3.10/site-packages/maup/assign.py:37: UserWarning: Geometry is in a geographic CRS. Results from 'area' are likely incorrect. Use 'GeoSeries.to_crs()' to re-project geometries to a projected CRS before this operation.\n",
      "\n",
      "  return assign_to_max(intersections(sources, targets, area_cutoff=0).area)\n"
     ]
    }
   ],
   "source": [
    "assignment = maup.assign(precincts, voting_data)"
   ]
  },
  {
   "cell_type": "code",
   "execution_count": 154,
   "id": "8e56954f",
   "metadata": {},
   "outputs": [],
   "source": [
    "variables = [\n",
    "       'PCON01RGAE', 'PCON01RMER', 'PCON01RMIL', 'PCON03DCHR', 'PCON03DDOD',\n",
    "       'PCON03DWEL', 'PCON03RCAM', 'PCON03RCHM', 'PCON03RCHS', 'PCON03RENG',\n",
    "       'PCON03RGEO', 'PCON03RMIL', 'PCON03RROL', 'PCON03RSAP', 'PCON03RTHE',\n",
    "       'PCON03RWEL', 'PCON04RAGU', 'PCON04RRUT', 'PCON05DCHE', 'PCON05DHOL',\n",
    "       'PCON05DLAW', 'PCON05RADL', 'PCON05RWAG', 'PCON06DCUR', 'PCON06DTHR',\n",
    "       'PCON07RGOB', 'PCON07RVAL', 'PCON07RZHA', 'PCON08RCAI', 'PCON08RPOS',\n",
    "       'PCON09RCAS', 'PCON09ROLS', 'PCON09RORT', 'PCON09RWRI', 'PCON10RFRA',\n",
    "       'PCON10RMON', 'PCON13RBUC', 'PCON13RGRI', 'PCON13RLUN', 'PCON13RMAK',\n",
    "       'PCON13RNEW', 'PCON14RELL', 'PCON14RQUI', 'PCON15DCOH', 'PCON15DHAT',\n",
    "       'PCON15DPHI', 'PCON15RFRA', 'PCON15RSPA', 'PCON18DKEI', 'PCON18DVAZ',\n",
    "       'PCON18RMAS', 'PCON18RVES', 'PCON19DBAN', 'PCON19DHOL', 'PCON19RAQU',\n",
    "       'PCON19RASK', 'PCON19RDON', 'PCON19REAG', 'PCON19RFIG', 'PCON19RHEN',\n",
    "       'PCON19RKOW', 'PCON19RMCL', 'PCON19RSEV', 'PCON20DCHE', 'PCON20DHAS',\n",
    "       'PCON20RDEG', 'PCON20RMUS', 'PCON21DFRA', 'PCON21DWEI', 'PCON21RACO',\n",
    "       'PCON21RFEL', 'PCON21RLOO', 'PCON21RSCA', 'PCON21RSHE', 'PCON21RVIL',\n",
    "       'PCON22RFLY', 'PCON22RMEL', 'PCON22RPRU', 'PCON22RSWA', 'PCON23DPER',\n",
    "       'PCON23DSCH', 'PCON23RKRO', 'PCON23RSPA', 'PCON24DFUE', 'PCON24DLEH',\n",
    "       'PCON24DWIL', 'PCON26RBLA', 'PCON26RGIM', 'PCON27RFIO', 'PCON27RMOL',\n",
    "       'PCON27RSAL',\n",
    "]"
   ]
  },
  {
   "cell_type": "code",
   "execution_count": 193,
   "id": "9a541e62",
   "metadata": {
    "scrolled": false
   },
   "outputs": [],
   "source": [
    "precincts[variables] = voting_data[variables].groupby(assignment).sum()\n",
    "precincts.to_file(\"./shapefiles/processed/florida/FL_VTD_W_CONGRESS.shp\")"
   ]
  }
 ],
 "metadata": {
  "kernelspec": {
   "display_name": "env",
   "language": "python",
   "name": "env"
  },
  "language_info": {
   "codemirror_mode": {
    "name": "ipython",
    "version": 3
   },
   "file_extension": ".py",
   "mimetype": "text/x-python",
   "name": "python",
   "nbconvert_exporter": "python",
   "pygments_lexer": "ipython3",
   "version": "3.10.6"
  }
 },
 "nbformat": 4,
 "nbformat_minor": 5
}
