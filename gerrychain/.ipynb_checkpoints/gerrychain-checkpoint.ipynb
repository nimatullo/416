{
 "cells": [
  {
   "cell_type": "code",
   "execution_count": null,
   "metadata": {},
   "outputs": [],
   "source": [
    "from gerrychain import Graph\n",
    "import json\n",
    "import geopandas as gpd\n",
    "\n",
    "dual_graph = Graph.from_file(\"./NC_VTD.shp\")\n",
    "df = gpd.read_file(\"./NC_VTD.shp\")\n"
   ]
  }
 ],
 "metadata": {
  "kernelspec": {
   "display_name": "Python 3 (ipykernel)",
   "language": "python",
   "name": "python3"
  },
  "language_info": {
   "codemirror_mode": {
    "name": "ipython",
    "version": 3
   },
   "file_extension": ".py",
   "mimetype": "text/x-python",
   "name": "python",
   "nbconvert_exporter": "python",
   "pygments_lexer": "ipython3",
   "version": "3.10.6"
  },
  "vscode": {
   "interpreter": {
    "hash": "fed57f83c95e2d3d0a7d12610e0117a67ff314ebccd3041daa4c9c77c9f9af9d"
   }
  }
 },
 "nbformat": 4,
 "nbformat_minor": 2
}
