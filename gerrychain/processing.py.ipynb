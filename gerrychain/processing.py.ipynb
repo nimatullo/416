{
 "cells": [
  {
   "cell_type": "code",
   "execution_count": 64,
   "id": "dd066b48",
   "metadata": {},
   "outputs": [
    {
     "data": {
      "text/plain": [
       "0       POLYGON Z ((943790.734 591023.581 0.000, 94364...\n",
       "1       POLYGON Z ((942137.421 562243.019 0.000, 94093...\n",
       "2       POLYGON Z ((873353.097 533771.394 0.000, 87420...\n",
       "3       POLYGON Z ((936263.331 593379.375 0.000, 93560...\n",
       "4       POLYGON Z ((940693.858 597222.143 0.000, 94069...\n",
       "                              ...                        \n",
       "5962    POLYGON Z ((-866918.391 2432253.809 0.000, -86...\n",
       "5963    POLYGON Z ((-877881.043 2406385.282 0.000, -87...\n",
       "5964    POLYGON Z ((-824547.862 2411437.171 0.000, -82...\n",
       "5965    POLYGON Z ((-848746.355 2379671.775 0.000, -84...\n",
       "5966    POLYGON Z ((-816442.346 2361650.824 0.000, -81...\n",
       "Name: geometry, Length: 5967, dtype: geometry"
      ]
     },
     "execution_count": 64,
     "metadata": {},
     "output_type": "execute_result"
    }
   ],
   "source": [
    "import geopandas as gpd\n",
    "import maup\n",
    "\n",
    "precincts = gpd.read_file(\"./shapefiles/fl/fl_2016.shp\")\n",
    "units = gpd.read_file(\"./shapefiles/fl/tabblock2010_12_pophu.shp\")\n"
   ]
  },
  {
   "cell_type": "code",
   "execution_count": 65,
   "id": "a68e3245",
   "metadata": {},
   "outputs": [],
   "source": [
    "precincts[\"geometry\"] = maup.make_valid(blocks)"
   ]
  },
  {
   "cell_type": "code",
   "execution_count": 66,
   "id": "00c1b3a8",
   "metadata": {},
   "outputs": [],
   "source": [
    "units[\"geometry\"] = maup.make_valid(precincts)"
   ]
  },
  {
   "cell_type": "code",
   "execution_count": 67,
   "id": "2f1fc7ef",
   "metadata": {},
   "outputs": [
    {
     "name": "stderr",
     "output_type": "stream",
     "text": [
      "/Users/sherzodnimatullo/code/projects/416/gerrychain/env/lib/python3.10/site-packages/maup/indexed_geometries.py:17: ShapelyDeprecationWarning: STRtree will be changed in 2.0.0 and will not be compatible with versions < 2.\n",
      "  self.spatial_index = STRtree(self.geometries)\n",
      "/Users/sherzodnimatullo/code/projects/416/gerrychain/env/lib/python3.10/site-packages/maup/indexed_geometries.py:17: ShapelyDeprecationWarning: STRtree will be changed in 2.0.0 and will not be compatible with versions < 2.\n",
      "  self.spatial_index = STRtree(self.geometries)\n"
     ]
    }
   ],
   "source": [
    "units.to_crs(precincts.crs, inplace=True)\n",
    "\n",
    "assignment = maup.assign(blocks, precincts)"
   ]
  },
  {
   "cell_type": "code",
   "execution_count": 68,
   "id": "cb456d81",
   "metadata": {},
   "outputs": [
    {
     "name": "stderr",
     "output_type": "stream",
     "text": [
      "/Users/sherzodnimatullo/code/projects/416/gerrychain/env/lib/python3.10/site-packages/gerrychain/graph/adjacency.py:21: ShapelyDeprecationWarning: Setting custom attributes on geometry objects is deprecated, and will raise an AttributeError in Shapely 2.0\n",
      "  geometries[i].id = i\n",
      "/Users/sherzodnimatullo/code/projects/416/gerrychain/env/lib/python3.10/site-packages/gerrychain/graph/adjacency.py:23: ShapelyDeprecationWarning: STRtree will be changed in 2.0.0 and will not be compatible with versions < 2.\n",
      "  tree = STRtree(geometries)\n",
      "/Users/sherzodnimatullo/code/projects/416/gerrychain/env/lib/python3.10/site-packages/gerrychain/graph/adjacency.py:66: UserWarning: Found overlaps among the given polygons. Indices of overlaps: {(3666, 4415), (572, 1107), (2467, 2474), (3806, 4004), (194, 1994), (1428, 2288), (1954, 2465), (3286, 4688), (252, 952), (3873, 4521), (1248, 2290), (3592, 3593), (501, 2593), (510, 1232), (761, 1805), (2010, 2353), (819, 2195), (2035, 2382), (5227, 5896), (2864, 4415), (531, 1593), (1061, 2039), (730, 2467), (1107, 1676), (5141, 5655), (1064, 2010), (189, 190), (795, 2526), (4896, 5621), (3154, 3377), (189, 949), (1375, 1428), (2876, 4406), (2536, 2760), (754, 1816), (517, 2645), (3392, 4688), (263, 2039), (167, 1879), (365, 1458), (2051, 2645), (659, 1261), (1726, 2247), (194, 1631), (1372, 2521), (3665, 3873), (1604, 2526), (573, 1261), (3812, 4688), (172, 1954), (734, 1465), (993, 1356), (2203, 2760), (665, 1954), (1145, 1816), (1498, 1507), (242, 2699), (3377, 4394), (1696, 2035), (192, 596), (406, 790), (672, 2521), (952, 1922), (192, 1990), (2290, 2340), (365, 2473), (1726, 1889), (968, 1137), (993, 2420), (61, 1515), (155, 1586), (286, 1261), (5578, 5912), (184, 1305), (861, 1879), (172, 1608), (924, 1145), (155, 283), (872, 1922), (573, 2745), (3492, 4004), (61, 764), (4161, 4660), (406, 407), (233, 531), (61, 379), (1137, 1813), (1498, 1639), (2876, 3634), (3062, 4154), (241, 242), (3592, 4347)}\n",
      "  warnings.warn(\n",
      "/Users/sherzodnimatullo/code/projects/416/gerrychain/env/lib/python3.10/site-packages/gerrychain/graph/graph.py:262: UserWarning: Found islands (degree-0 nodes). Indices of islands: {5635, 5637, 5131, 5644, 5133, 5646, 5649, 5138, 5650, 5140, 5651, 5142, 5145, 5147, 5659, 5660, 5662, 5664, 5665, 5156, 5672, 5673, 5169, 5170, 5681, 5684, 5180, 5181, 5696, 5699, 5700, 5192, 5195, 5198, 5710, 5712, 5204, 5717, 5211, 5212, 5724, 5725, 5731, 5224, 5228, 5229, 5740, 5741, 5745, 5746, 5235, 5239, 5242, 5754, 5245, 5759, 5761, 5771, 5260, 5261, 5773, 5263, 5777, 5780, 5270, 5273, 5785, 5791, 5280, 5281, 5796, 5287, 5289, 5290, 5291, 5801, 5293, 5803, 5805, 5806, 5810, 5310, 5823, 5830, 5322, 5325, 5837, 5838, 5839, 5840, 5330, 5841, 5332, 5844, 5848, 5849, 5338, 5341, 5342, 5855, 5351, 5865, 5355, 5356, 5869, 5358, 5871, 5872, 4849, 5362, 5363, 5874, 5365, 4854, 5877, 5880, 5882, 5372, 5885, 5889, 5890, 4869, 4870, 4871, 5383, 5893, 4875, 4878, 5391, 5902, 5903, 5394, 5905, 5396, 5397, 5398, 5399, 5910, 5911, 5915, 5916, 5917, 5408, 5409, 5410, 4899, 5411, 5920, 4902, 5922, 5923, 5419, 5420, 4909, 5422, 5423, 5424, 4913, 5426, 5427, 5931, 4917, 5936, 4920, 5946, 5439, 4928, 5951, 4930, 4931, 5953, 5957, 5958, 5961, 4938, 5456, 4946, 4947, 4948, 4949, 4953, 4954, 4955, 5465, 5470, 4964, 5476, 4974, 4976, 5493, 4985, 5497, 5500, 4990, 5502, 4996, 4997, 4998, 4999, 5511, 5001, 5518, 5522, 5523, 5012, 5015, 5529, 5020, 5024, 5538, 5027, 5540, 5546, 5035, 5039, 5556, 5557, 5559, 5050, 5571, 5060, 5064, 5065, 5066, 5580, 5071, 5594, 5083, 5596, 5085, 5087, 5088, 5090, 5092, 5093, 5094, 5607, 5109, 5110, 5627, 5628, 5631}\n",
      "  warnings.warn(\n"
     ]
    }
   ],
   "source": [
    "precincts[\"POP10\"] = units[\"POP10\"].groupby(assignment).sum()\n",
    "precincts[\"C_X\"] = precincts.centroid.x\n",
    "precincts[\"C_Y\"] = precincts.centroid.y\n",
    "\n",
    "from gerrychain import Graph\n",
    "\n",
    "dual_graph = Graph.from_geodataframe(precincts)\n",
    "dual_graph.add_data(precincts)\n",
    "dual_graph.to_json(\"./FL_VTD.json\")"
   ]
  },
  {
   "cell_type": "code",
   "execution_count": 71,
   "id": "cc4929e9",
   "metadata": {},
   "outputs": [
    {
     "name": "stderr",
     "output_type": "stream",
     "text": [
      "/Users/sherzodnimatullo/code/projects/416/gerrychain/env/lib/python3.10/site-packages/networkx/drawing/nx_pylab.py:433: UserWarning: No data for colormapping provided via 'c'. Parameters 'cmap' will be ignored\n",
      "  node_collection = ax.scatter(\n"
     ]
    }
   ],
   "source": [
    "import networkx as nx\n",
    "import matplotlib.pyplot as plt\n",
    "\n",
    "plt.figure()\n",
    "nx.draw(dual_graph, pos={n:(dual_graph.nodes[n]['C_X'],dual_graph.nodes[n]['C_Y']) for n in dual_graph.nodes()}, cmap = 'coolwarm', node_size=30)\n",
    "plt.savefig(\"./FL_Dual_Graph.png\")\n"
   ]
  }
 ],
 "metadata": {
  "kernelspec": {
   "display_name": "env",
   "language": "python",
   "name": "env"
  },
  "language_info": {
   "codemirror_mode": {
    "name": "ipython",
    "version": 3
   },
   "file_extension": ".py",
   "mimetype": "text/x-python",
   "name": "python",
   "nbconvert_exporter": "python",
   "pygments_lexer": "ipython3",
   "version": "3.10.6"
  }
 },
 "nbformat": 4,
 "nbformat_minor": 5
}
