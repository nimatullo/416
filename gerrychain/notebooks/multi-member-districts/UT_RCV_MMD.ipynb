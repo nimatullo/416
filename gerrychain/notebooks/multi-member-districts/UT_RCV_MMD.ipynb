{
 "cells": [
  {
   "cell_type": "code",
   "execution_count": 1,
   "metadata": {},
   "outputs": [],
   "source": [
    "import pandas as pd\n",
    "import geopandas as gpd\n",
    "import matplotlib.pyplot as plt\n",
    "from matplotlib.ticker import MaxNLocator\n",
    "from gerrychain import Graph, GeographicPartition, Election, MarkovChain, tree, constraints\n",
    "from functools import partial\n",
    "from gerrychain.updaters import Tally, cut_edges\n",
    "from gerrychain.metrics import polsby_popper\n",
    "from gerrychain.proposals import recom\n",
    "import os\n",
    "from gerrychain.accept import always_accept\n",
    "\n",
    "from combination import *\n",
    "from candidate import Candidate\n",
    "from ballot import Ballot"
   ]
  },
  {
   "cell_type": "code",
   "execution_count": 2,
   "metadata": {},
   "outputs": [],
   "source": [
    "PROCESSED_SHAPEFILE_PATH = os.path.join(os.getcwd())\n",
    "UT_PATH = os.path.join(PROCESSED_SHAPEFILE_PATH, \"utah\", \"UT_precincts.shp\")\n",
    "EXPORT_PATH = os.path.join(PROCESSED_SHAPEFILE_PATH, \"utah\")\n",
    "\n",
    "ITERATIONS = 1\n",
    "SAFE_SEAT_THRESHOLD = 0.66\n",
    "MINORITY_POP_THRESHOLD = RACE_WINNER_THRESHOLD = 0.5\n",
    "TOTAL_DISTRICTS = 4\n",
    "ONE = 1"
   ]
  },
  {
   "cell_type": "code",
   "execution_count": 3,
   "metadata": {},
   "outputs": [
    {
     "name": "stderr",
     "output_type": "stream",
     "text": [
      "/Users/alexisperezmendoza/Desktop/python-mggg/mggg/lib/python3.10/site-packages/gerrychain/graph/adjacency.py:21: ShapelyDeprecationWarning: Setting custom attributes on geometry objects is deprecated, and will raise an AttributeError in Shapely 2.0\n",
      "  geometries[i].id = i\n",
      "/Users/alexisperezmendoza/Desktop/python-mggg/mggg/lib/python3.10/site-packages/gerrychain/graph/adjacency.py:23: ShapelyDeprecationWarning: STRtree will be changed in 2.0.0 and will not be compatible with versions < 2.\n",
      "  tree = STRtree(geometries)\n",
      "/Users/alexisperezmendoza/Desktop/python-mggg/mggg/lib/python3.10/site-packages/gerrychain/graph/adjacency.py:66: UserWarning: Found overlaps among the given polygons. Indices of overlaps: {(1805, 1814), (444, 445), (95, 377), (55, 1396), (136, 149), (716, 724), (719, 720), (716, 733), (930, 931), (1518, 1519), (719, 729), (787, 1022), (40, 41), (628, 629), (1129, 1149), (1690, 1860), (956, 1087), (1884, 2000), (1968, 1975), (1569, 1570), (929, 962), (124, 1370), (963, 964), (929, 971), (1510, 1511), (1000, 1022), (1392, 1397), (1447, 1571), (1419, 1500), (1783, 1795), (1908, 2055), (1806, 1918), (742, 754), (1153, 1219), (376, 377), (623, 626), (1909, 2038), (1809, 1923), (635, 637), (120, 1363), (1772, 1794), (612, 644), (1424, 1453), (640, 724), (1015, 1016), (857, 1067), (786, 787), (1003, 1688), (1018, 1021), (428, 432), (87, 377), (899, 2003), (886, 901), (716, 737), (916, 2083), (1437, 1526), (93, 191), (554, 675), (618, 678), (610, 674), (1179, 1639), (2006, 2082), (268, 290), (80, 90), (136, 418), (1561, 1988), (66, 857), (148, 154), (971, 972), (69, 108), (1991, 2048), (423, 429), (81, 82), (634, 640), (1912, 1913), (1530, 1582), (734, 736), (1753, 1758), (2019, 2057), (1004, 1005), (1880, 1969), (75, 124), (1905, 2053), (754, 1635), (95, 111), (114, 124), (727, 733), (78, 1370), (1125, 1142), (1453, 1502), (1797, 1800), (1993, 2013), (1265, 1311), (715, 758), (66, 1481), (1129, 1130), (768, 770), (719, 728), (1391, 1392), (857, 936), (136, 422), (886, 2064), (899, 2083), (1412, 1851), (1542, 1942), (1122, 1127), (1911, 1934), (955, 1099), (1129, 1651), (1421, 1423), (1537, 1891), (1000, 1021), (1963, 1990), (611, 642), (818, 1130), (1447, 1570), (742, 1638), (690, 706), (393, 438), (790, 793), (43, 50), (632, 692), (523, 547), (1443, 1447), (1483, 1758), (1365, 1366), (715, 717), (82, 1079), (1452, 1532), (445, 475), (55, 1363), (727, 728), (757, 1635), (1985, 1986), (767, 773), (95, 124), (608, 609), (624, 626), (616, 622), (1453, 1515), (1846, 2084), (1638, 1640), (956, 1045), (1881, 2013), (716, 718), (1821, 2018), (447, 530), (136, 152), (722, 1125), (93, 181), (646, 739), (609, 610), (618, 677), (490, 491), (1149, 1643), (620, 1104), (1979, 1984), (742, 1615), (1992, 2012), (1413, 1414), (2019, 2038), (1377, 1479), (1423, 1446), (723, 726), (1878, 2008), (723, 735), (1690, 1719), (1831, 2085), (99, 462), (35, 41), (1890, 2000), (1516, 1521), (1220, 1370), (1524, 1534), (1453, 1501), (119, 1370), (955, 977), (767, 777), (717, 758), (2114, 2122), (956, 1040), (438, 449), (298, 527), (447, 516), (256, 292), (1801, 1918), (78, 124), (607, 635), (1848, 1868), (1517, 1521), (610, 677), (479, 495), (377, 438), (659, 691), (741, 742), (620, 1108), (1000, 1002), (762, 783), (1482, 1518), (1531, 1532), (825, 1635), (4, 1370), (930, 1032), (638, 753), (1483, 1510), (1563, 1582), (623, 624), (733, 734), (1480, 1584), (1688, 1851), (2015, 2017), (2017, 2036), (623, 1109), (995, 999), (216, 224), (634, 737), (2026, 2032), (87, 348), (446, 448), (1128, 1129), (1907, 1913), (643, 724), (718, 727), (1505, 1753), (554, 646), (1525, 1582), (1778, 1799), (552, 676), (279, 527), (1423, 1571), (1878, 1895), (959, 960), (726, 758), (1991, 2010), (825, 1127), (2018, 2036), (1848, 1872), (722, 724), (792, 1615), (87, 213), (762, 769), (1391, 1395), (762, 1016), (1992, 2011), (1423, 1436), (2084, 2085), (740, 750), (611, 636), (1142, 1157), (1515, 1519), (1904, 1907), (1412, 1692), (1014, 1017), (1418, 1595), (35, 40), (1546, 1753), (1556, 1974), (623, 1104), (110, 857), (497, 498), (1704, 1729), (1527, 1529), (1755, 1774), (2026, 2027), (49, 51), (1940, 2085), (956, 1039), (507, 520), (1691, 1875), (1756, 1757), (729, 731), (1834, 2085), (1967, 1968), (1999, 2000), (256, 291), (1801, 1917), (1128, 1151), (1922, 2036), (507, 547), (446, 528), (2020, 2050), (1900, 1905), (1754, 1958), (60, 1395), (82, 111), (1482, 1508), (1773, 1791), (762, 782), (1555, 1888), (638, 734), (1121, 1129), (763, 994), (1423, 1449), (1878, 2002), (763, 765), (1445, 1446), (72, 75), (673, 691), (2017, 2035), (431, 520), (176, 178), (777, 785), (995, 998), (1422, 1480), (1747, 1765), (86, 95), (634, 736), (629, 630), (725, 756), (1637, 1652), (393, 530), (1395, 1481), (1907, 1912), (1105, 1135), (478, 488), (1542, 1890), (1419, 1420), (616, 678), (961, 969), (278, 283), (1178, 1641), (1423, 1570), (1505, 1761), (622, 627), (607, 638), (488, 547), (722, 723), (27, 72), (770, 772), (1807, 1919), (641, 1125), (1705, 2060), (1395, 1584), (1555, 1883), (33, 1162), (121, 857), (1942, 2000), (533, 545), (761, 790), (73, 124), (1422, 1448), (706, 711), (80, 181), (763, 1016), (606, 633), (733, 737), (1851, 1872), (1903, 1910), (1922, 1923), (76, 1370), (1637, 1638), (1812, 1917), (1363, 1398), (788, 789), (9, 14), (637, 638), (956, 1029), (830, 2085), (1157, 1159), (1526, 1532), (1689, 2084), (1211, 1377), (1578, 1579), (739, 753), (636, 642), (718, 730), (729, 730), (1917, 1939), (29, 1142), (1178, 1636), (27, 49), (1252, 1265), (1733, 1736), (762, 763), (1522, 1534), (1807, 1923), (950, 972), (82, 110), (31, 37), (721, 722), (1753, 1961), (1773, 1790), (2, 1142), (761, 776), (782, 997), (1115, 1134), (1395, 1606), (1393, 1398), (633, 636), (975, 992), (785, 999), (304, 317), (1851, 2114), (897, 2003), (2017, 2034), (1529, 1533), (736, 737), (1796, 1797), (37, 71), (769, 771), (1691, 1851), (2058, 2062), (787, 788), (857, 874), (1917, 1934), (636, 637), (1105, 1134), (766, 774), (1808, 2036), (1570, 1579), (731, 753), (1001, 1004), (728, 729), (930, 962), (18, 75), (1413, 1595), (778, 995), (1413, 1613), (637, 736), (1522, 1529), (1481, 1488), (1574, 1576), (1500, 1501), (721, 726), (1481, 1506), (1142, 1146), (1954, 1955), (1719, 2061), (97, 462), (1366, 1376), (1563, 1566), (53, 56), (625, 627), (1851, 1871), (674, 739), (722, 825), (1525, 1530), (55, 1395), (1418, 1422), (97, 98), (1526, 1531), (269, 290), (1367, 1376), (306, 348), (93, 213), (608, 677), (540, 542), (606, 753), (630, 692), (532, 547), (994, 996), (1115, 1133), (34, 38), (1772, 1793), (606, 609), (606, 618), (975, 991), (1437, 1440), (1448, 1580), (1903, 1904), (56, 65), (425, 426), (1851, 2122), (1555, 1971), (996, 2084), (1016, 1019), (5, 1142), (394, 438), (676, 691), (716, 727), (886, 900), (768, 774), (1758, 1760), (1518, 1522), (731, 734), (617, 623), (1705, 1766), (1828, 1846), (1828, 2084), (1750, 1765), (1792, 2018), (0, 17), (88, 377), (956, 1099), (1488, 1499), (1668, 2122), (521, 524), (1792, 2036), (641, 1105), (1422, 1581), (1421, 1436), (1413, 2097), (1910, 1911), (741, 792), (1565, 1566), (734, 753), (1905, 2052), (1413, 2115), (1719, 2060), (2105, 2114), (614, 617), (1531, 1582), (1546, 1961), (447, 449), (114, 123), (1566, 1567), (1425, 1451), (1415, 1416), (1453, 1519), (1125, 1159), (2035, 2036), (1453, 1528), (428, 435), (2027, 2032), (136, 156), (480, 491), (1798, 1800), (1976, 1977), (1211, 1375), (1968, 1973), (620, 623), (1968, 1982), (1480, 1481), (620, 641), (720, 728), (268, 311), (1410, 1422), (77, 124), (33, 36), (1392, 1395), (1510, 1518), (44, 45), (1543, 1942), (1130, 1651), (683, 684), (1115, 1132), (1546, 1956), (606, 608), (453, 478), (1514, 1515), (1636, 1639), (609, 753), (1757, 1758), (962, 1029), (1635, 1652), (2016, 2036), (758, 1635), (716, 735), (719, 731), (731, 733), (1271, 1473), (1639, 1640), (628, 631), (1129, 1151), (1432, 1436), (1792, 2017), (461, 463), (886, 2067), (717, 825), (992, 2085), (963, 966), (2019, 2037), (723, 725), (1416, 1595), (1783, 1797), (2019, 2046), (1483, 1505), (1690, 1718), (1447, 1582), (1975, 1976), (1904, 1934), (956, 963), (1366, 1374), (504, 546), (609, 739), (1514, 1519), (727, 731), (955, 976), (60, 1481), (1635, 1638), (765, 995), (1797, 1798), (616, 625), (625, 692), (213, 348), (955, 994), (1704, 1765), (136, 393), (996, 1013), (1425, 1526), (1798, 1799), (17, 73), (1779, 1795), (1425, 1535), (160, 857), (929, 950), (1149, 1219), (1569, 1576), (423, 431), (1420, 1453), (97, 428), (634, 642), (1447, 1568), (33, 44), (742, 1636), (2019, 2050), (1823, 1846), (612, 623), (723, 747), (1594, 1605), (82, 165), (723, 756), (740, 790), (612, 641), (930, 1067), (1424, 1450), (1495, 1501), (1527, 1533), (1125, 1135), (1564, 1582), (446, 447), (625, 678), (276, 283), (1481, 1584), (2016, 2017), (2002, 2082), (1778, 1798), (136, 141), (1126, 1127), (1520, 1521), (447, 528), (1369, 1370), (1726, 1778), (520, 521), (630, 631), (729, 753), (29, 33), (1989, 1990), (1437, 1532), (825, 1126), (1179, 1636), (1526, 1582), (1848, 1871), (260, 283), (722, 732), (778, 785), (1391, 1394), (1879, 1895), (1805, 1918), (758, 825), (1812, 1814), (1908, 2038), (634, 637), (929, 972), (723, 724), (91, 111), (1536, 1888), (611, 644), (1419, 1501), (2019, 2045), (1014, 1016), (364, 367), (1806, 1919), (453, 454), (615, 623), (1483, 1760), (1615, 1641), (818, 1635), (1527, 1528), (1985, 1988), (1015, 1017), (1977, 1984), (955, 975), (1635, 1637), (2, 1219), (72, 124), (1018, 1022), (1557, 1974), (1635, 1646), (1834, 2084), (1670, 1851), (1457, 1478), (256, 290), (1576, 1578), (1560, 1561), (427, 428), (136, 154), (147, 154), (996, 1012), (1941, 2085), (1809, 2036), (1900, 1904), (1425, 1534), (825, 1130), (442, 444), (80, 82), (0, 1142), (1501, 1502), (777, 1099), (792, 1627), (1391, 1398), (1320, 1594), (1555, 1887), (742, 1635), (1904, 1910), (1383, 1384), (1782, 1795), (975, 2084), (1416, 1418), (1774, 1791), (777, 955), (1615, 1636), (1003, 2084), (82, 1067), (431, 528), (119, 1363), (777, 793), (5, 29), (38, 72), (1801, 1911), (1485, 1553), (1568, 1569), (1417, 1418), (781, 790), (86, 377), (607, 637), (678, 688), (886, 955), (1848, 1870), (27, 71), (994, 2084), (82, 105), (762, 767), (1705, 2059), (260, 291), (1129, 1643), (82, 123), (1423, 1443), (930, 1025), (674, 681), (962, 968), (305, 317), (1014, 1015), (1556, 1972), (1564, 1567), (955, 956), (537, 541), (1003, 1005), (4, 1219), (956, 1028), (618, 633), (2114, 2119), (430, 433), (608, 610), (606, 677), (1670, 1850), (1377, 1606), (722, 1126), (29, 1159), (729, 756), (741, 1615), (929, 930), (89, 377), (1991, 2021), (82, 100), (722, 726), (1422, 1595), (1522, 1533), (950, 971), (1792, 1821), (762, 771), (1021, 1022), (1830, 2085), (619, 633), (740, 743), (1762, 1798), (2021, 2049), (1910, 1934), (962, 963), (930, 1029), (740, 761), (1219, 1370), (633, 635), (1423, 1447), (1536, 1891), (1808, 1923), (1115, 1160), (607, 753), (1524, 1526), (548, 676), (37, 70), (717, 732), (1508, 1518), (1946, 2000), (618, 619), (1424, 1515), (898, 2003), (1508, 1774), (1526, 1535), (86, 111), (478, 486), (915, 2083), (1688, 2122), (1847, 1868), (1505, 1759), (2005, 2082), (781, 789), (1820, 2018), (1482, 1483), (1413, 1612), (1848, 1869), (1820, 2036), (1002, 1004), (82, 104), (1984, 1986), (1544, 1961), (1781, 1797), (41, 72), (1482, 1757), (638, 736), (1563, 1565), (1973, 1976), (773, 790), (304, 311), (763, 1014), (1556, 1971), (98, 462), (395, 438), (1995, 2000), (777, 778), (1220, 1375), (787, 1627), (1269, 1478), (1889, 2000), (956, 1027), (675, 739), (1506, 1561), (645, 1125), (428, 462), (1691, 1872), (718, 728), (1669, 2122), (1424, 1528), (38, 75), (30, 34), (1511, 1514), (95, 438), (1519, 1527), (1991, 2011), (438, 530), (449, 530), (994, 995), (114, 1363), (1992, 1994), (82, 108), (1544, 1956), (1770, 1792), (2021, 2048), (1523, 1524), (1484, 1505), (13, 14), (1981, 1984), (80, 165), (1808, 1922), (463, 470), (482, 483), (776, 790), (673, 688), (606, 635), (1563, 2063), (304, 324), (1421, 1503), (1485, 1506), (1016, 1018), (137, 156), (634, 724), (1219, 1643), (1508, 1755), (1637, 1640), (1995, 2013), (1998, 2000), (779, 1627), (1518, 1521), (1526, 1534), (1705, 1765), (766, 772), (969, 970), (1001, 1002), (1729, 1750), (18, 73), (1507, 1795), (29, 1162), (1511, 1518), (1544, 1942), (791, 792), (1120, 1129), (1002, 1003), (936, 1067), (402, 422), (1115, 1136), (1877, 1989), (110, 161), (975, 994), (304, 310), (1563, 2058), (1425, 1450), (717, 726), (1363, 1395), (480, 481), (480, 490), (178, 179), (766, 767), (739, 750), (377, 388), (1542, 1891), (789, 1016), (1627, 1688), (961, 970), (1991, 1992), (278, 284), (95, 428), (645, 724), (720, 727), (772, 774), (641, 1108), (1942, 1956), (1422, 1584), (1880, 1895), (532, 545), (462, 468), (433, 441), (1481, 1499), (610, 739), (52, 75), (81, 111), (1115, 1131), (1905, 2055), (1393, 1395), (606, 607), (423, 476), (1003, 1627), (614, 629), (1422, 1449), (1485, 1487), (82, 857), (431, 507), (1450, 1529), (1563, 2062), (717, 721), (1688, 2084), (1485, 1505), (1555, 1969), (1755, 1756), (1998, 1999), (428, 438), (488, 507), (278, 279), (886, 2066), (1488, 1506), (992, 2084), (720, 731), (69, 123), (1392, 1398), (462, 463), (1624, 1641), (741, 790), (742, 755), (721, 732), (964, 966), (956, 962), (120, 1364), (662, 664), (1481, 1988), (403, 422), (1514, 1518), (765, 994), (786, 788), (2024, 2025), (1851, 2115), (1529, 1534), (436, 437), (444, 450), (496, 497), (823, 1130), (930, 936), (554, 676), (1129, 1145), (1639, 1643), (8, 23), (1639, 1652), (760, 790), (728, 730), (1426, 1526), (772, 773), (886, 2079), (1426, 1535), (1392, 1393), (161, 857), (33, 43), (956, 957), (1780, 1794), (857, 1481), (453, 485), (82, 1085), (432, 462)}\n",
      "  warnings.warn(\n",
      "/Users/alexisperezmendoza/Desktop/python-mggg/mggg/lib/python3.10/site-packages/gerrychain/graph/graph.py:296: UserWarning: NA values found in column SbPrcnc!\n",
      "  warnings.warn(\"NA values found in column {}!\".format(column))\n",
      "/Users/alexisperezmendoza/Desktop/python-mggg/mggg/lib/python3.10/site-packages/gerrychain/graph/graph.py:296: UserWarning: NA values found in column AliasNm!\n",
      "  warnings.warn(\"NA values found in column {}!\".format(column))\n"
     ]
    }
   ],
   "source": [
    "ut_graph = Graph.from_file(UT_PATH, ignore_errors=True)"
   ]
  },
  {
   "cell_type": "code",
   "execution_count": 4,
   "metadata": {},
   "outputs": [],
   "source": [
    "total_population = sum(ut_graph.nodes[node][\"TOTPOP\"] for node in ut_graph.nodes)\n"
   ]
  },
  {
   "cell_type": "code",
   "execution_count": 5,
   "metadata": {},
   "outputs": [],
   "source": [
    "partition_1 = tree.recursive_tree_part(ut_graph, [1], total_population, \"TOTPOP\", 0.01, 1)\n",
    "\n",
    "ut_election = Election(\"CongressionalRace\" , {\"Democratic\": \"SEN16D\", \"Republican\": \"SEN16R\"})"
   ]
  },
  {
   "cell_type": "code",
   "execution_count": 6,
   "metadata": {},
   "outputs": [],
   "source": [
    "new_partition = GeographicPartition(ut_graph, assignment=partition_1, updaters={\n",
    "        \"population\": Tally(\"TOTPOP\", alias=\"population\"),\n",
    "        \"white\": Tally(\"NH_WHITE\", alias=\"white\"),\n",
    "        \"black\": Tally(\"NH_BLACK\", alias=\"black\"),\n",
    "        \"asian\": Tally(\"NH_ASIAN\", alias=\"asian\"),\n",
    "        \"hisp\": Tally(\"HISP\", alias=\"hisp\"),\n",
    "        \"other\": Tally(\"NH_OTHER\", alias=\"other\"),\n",
    "        \"cut_edges\": cut_edges,\n",
    "        \"CongressionalRace\": ut_election\n",
    "    })"
   ]
  },
  {
   "cell_type": "code",
   "execution_count": 7,
   "metadata": {},
   "outputs": [],
   "source": [
    "ideal_pop = total_population / ONE\n",
    "proposal = partial(recom, pop_col=\"TOTPOP\", pop_target=ideal_pop, epsilon=.02, node_repeats=2)\n",
    "compactness = constraints.UpperBound(\n",
    "    lambda p: len(p[\"cut_edges\"]),\n",
    "    2*len(new_partition[\"cut_edges\"])\n",
    ")\n",
    "pop_constraint = constraints.within_percent_of_ideal_population(new_partition, 0.3)\n"
   ]
  },
  {
   "cell_type": "code",
   "execution_count": 8,
   "metadata": {},
   "outputs": [],
   "source": [
    "chain1 = MarkovChain(\n",
    "    proposal=proposal,\n",
    "    constraints=[\n",
    "    ],\n",
    "    accept=always_accept,\n",
    "    initial_state=new_partition,\n",
    "    total_steps=ITERATIONS\n",
    ")\n",
    "\n"
   ]
  },
  {
   "cell_type": "code",
   "execution_count": 9,
   "metadata": {},
   "outputs": [],
   "source": [
    "import random \n",
    "\n",
    "ballot_map = {}\n",
    "vote_map = {}\n",
    "all_candidates_dem = [Candidate(\"Whipper, Snapper\", \"Democratic\"), Candidate(\"Williams, Abigail\", \"Democratic\"),\n",
    "                     Candidate(\"Rob Crok\", \"Democratic\"), Candidate(\"Kennedy, Robert J.\", \"Democratic\")]\n",
    "                     \n",
    "all_candidates_rep = [Candidate(\"Stewart, Chris\", \"Republican\"), Candidate(\"Owens, Burgess\", \"Republican\"),\n",
    "                      Candidate(\"Moore, Blake D.\", \"Republican\"), Candidate(\"Curtis, John R.\", \"Republican\")]\n",
    "\n",
    "\n",
    "for step in chain1:\n",
    "    for part in step.parts:\n",
    "        ballots = []\n",
    "\n",
    "        total_reps = round((step[\"population\"][part] / total_population) * TOTAL_DISTRICTS)\n",
    "        dem_candidates = []\n",
    "        rep_candidates = []\n",
    "        for i in range(total_reps):\n",
    "            dem_candidates.append(all_candidates_dem.pop())\n",
    "            rep_candidates.append(all_candidates_rep.pop())\n",
    "\n",
    "        rep_votes = 0\n",
    "        dem_votes = 0\n",
    "        for node in step.parts[part]:\n",
    "            random.shuffle(dem_candidates)\n",
    "            random.shuffle(rep_candidates)\n",
    "            # Create ballots for the Republican and Democratic candidates\n",
    "            ballots += [Ballot([rep for rep in rep_candidates]) for _ in range(round(int(ut_graph.nodes[node][\"SEN16R\"])))]\n",
    "            ballots += [Ballot([dem for dem in dem_candidates]) for _ in range(round(int(ut_graph.nodes[node][\"SEN16D\"])))]\n",
    "            rep_votes += round(int(ut_graph.nodes[node][\"SEN16R\"]))\n",
    "            dem_votes += round(int(ut_graph.nodes[node][\"SEN16D\"]))\n",
    "        ballot_map[part] = ballots\n",
    "        vote_map[part] = (dem_votes + rep_votes, total_reps)\n"
   ]
  },
  {
   "cell_type": "code",
   "execution_count": 10,
   "metadata": {},
   "outputs": [],
   "source": [
    "from collections import Counter\n",
    "\n",
    "election_results = {}\n",
    "initial_votes = {}\n",
    "\n",
    "for district in ballot_map:\n",
    "    ballots = ballot_map[district]\n",
    "    winning_threshold = vote_map[district][0] / (1+vote_map[district][1])\n",
    "    vote_counts = Counter()\n",
    "\n",
    "    remaining_candidates = []\n",
    "    eliminated_candidates = []\n",
    "    winners = []\n",
    "    winner_count = 0\n",
    "    candidates_dict = {}\n",
    "    rounds = 0\n",
    "\n",
    "    for ballot in ballots:\n",
    "        first_candidate = ballot.rankings[0]\n",
    "        vote_counts[first_candidate] += ballot.weight\n",
    "\n",
    "    remaining_candidates = vote_counts.most_common(vote_map[district][1] * 2)\n",
    "    remaining_candidates.sort(key=lambda x: x[1], reverse=True)\n",
    "    initial_votes[district] = remaining_candidates\n",
    "\n",
    "    while(True):\n",
    "        remaining_candidates = vote_counts.most_common((vote_map[district][1] * 2) - rounds - winner_count)\n",
    "        remaining_candidates.sort(key=lambda x: x[1], reverse=True)\n",
    "\n",
    "        if len(remaining_candidates)-1 + len(winners) == vote_map[district][1]:\n",
    "            winners += remaining_candidates\n",
    "            eliminated_candidates.append(winners.pop())\n",
    "            break\n",
    "\n",
    "        # SURPLUS ROUND\n",
    "        first_place = remaining_candidates[0]\n",
    "        if first_place[1] >= winning_threshold:\n",
    "            remaining_candidates.remove(first_place)\n",
    "            surplus = first_place[1] - winning_threshold\n",
    "\n",
    "            sp_count = 0\n",
    "            for ballot in ballots:\n",
    "                if ballot.rankings[0] == first_place[0]:\n",
    "                    ballot.rankings.remove(ballot.rankings[0])\n",
    "                    ballot.set_weight(ballot.get_weight() * .8)\n",
    "                    vote_counts[ballot.rankings[0]] = round(ballot.weight + vote_counts[ballot.rankings[0]], 4)\n",
    "                    sp_count += 1\n",
    "                    if sp_count >= surplus:\n",
    "                        break\n",
    "            for ballot in ballots:\n",
    "                if ballot.rankings[0] == first_place[0]:\n",
    "                    vote_counts[ballot.rankings[0]] -= 1\n",
    "\n",
    "            first_place = (first_place[0], winning_threshold)\n",
    "            winners.append(first_place) \n",
    "            rounds +=1\n",
    "            winner_count += 1\n",
    "            continue\n",
    "\n",
    "        # ELIMINATION ROUND\n",
    "        eliminated = remaining_candidates[(vote_map[district][1] * 2) - rounds-1]\n",
    "        if len(remaining_candidates)-1 + len(winners) == vote_map[district][1]:\n",
    "            remaining_candidates.remove(eliminated)\n",
    "            winners += remaining_candidates\n",
    "            eliminated_candidates.append(eliminated)\n",
    "            break\n",
    "        for ballot in ballots:\n",
    "            if ballot.rankings[0] == eliminated[0]:\n",
    "                ballot.rankings.remove(ballot.rankings[0])\n",
    "                ballot.set_weight(ballot.get_weight() * .8)\n",
    "                vote_counts[ballot.rankings[0]] = round(ballot.weight + vote_counts[ballot.rankings[0]], 4)\n",
    "                \n",
    "        for ballot in ballots:\n",
    "            if ballot.rankings[0] == eliminated[0]:\n",
    "                vote_counts[ballot.rankings[0]] -= 1\n",
    "\n",
    "        eliminated_candidates.append(eliminated)\n",
    "        rounds += 1\n",
    "        election_results[district] = {\"Winners\": winners, \"Eliminated\": eliminated_candidates, \"Initial Votes\": initial_votes[district]}\n"
   ]
  },
  {
   "cell_type": "code",
   "execution_count": 11,
   "metadata": {},
   "outputs": [],
   "source": [
    "# make the candidates json serializable\n",
    "for district in election_results:\n",
    "    winners = election_results[district][\"Winners\"]\n",
    "    eliminated = election_results[district][\"Eliminated\"]\n",
    "    initial_votes = election_results[district][\"Initial Votes\"]\n",
    "    election_results[district][\"RepCountTotal\"] = vote_map[district][1]\n",
    "    election_results[district][\"VoteThreshold\"] = vote_map[district][0] / (1+vote_map[district][1])\n",
    "    election_results[district][\"Winners\"] = [(winner[0].name, winner[0].party, winner[1]) for winner in winners]\n",
    "    election_results[district][\"Eliminated\"] = [(eliminated[0].name, eliminated[0].party, eliminated[1]) for eliminated in eliminated]\n",
    "    election_results[district][\"Initial Votes\"] = [(initial_votes[0].name, initial_votes[0].party, initial_votes[1]) for initial_votes in initial_votes]\n"
   ]
  },
  {
   "cell_type": "code",
   "execution_count": 12,
   "metadata": {},
   "outputs": [],
   "source": [
    "import json\n",
    "# Export the results to a JSON file\n",
    "with open('ut_election_results.json', 'w') as fp:\n",
    "    json.dump(election_results, fp)\n",
    "    \n"
   ]
  }
 ],
 "metadata": {
  "kernelspec": {
   "display_name": "Python 3.10.7 64-bit",
   "language": "python",
   "name": "python3"
  },
  "language_info": {
   "codemirror_mode": {
    "name": "ipython",
    "version": 3
   },
   "file_extension": ".py",
   "mimetype": "text/x-python",
   "name": "python",
   "nbconvert_exporter": "python",
   "pygments_lexer": "ipython3",
   "version": "3.10.7"
  },
  "orig_nbformat": 4,
  "vscode": {
   "interpreter": {
    "hash": "b0fa6594d8f4cbf19f97940f81e996739fb7646882a419484c72d19e05852a7e"
   }
  }
 },
 "nbformat": 4,
 "nbformat_minor": 2
}
