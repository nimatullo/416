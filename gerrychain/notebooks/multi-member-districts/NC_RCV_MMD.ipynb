{
 "cells": [
  {
   "cell_type": "code",
   "execution_count": 2,
   "metadata": {},
   "outputs": [],
   "source": [
    "import pandas as pd\n",
    "import geopandas as gpd\n",
    "import matplotlib.pyplot as plt\n",
    "from matplotlib.ticker import MaxNLocator\n",
    "from gerrychain import Graph, GeographicPartition, Election, MarkovChain, tree, constraints\n",
    "from functools import partial\n",
    "from gerrychain.updaters import Tally, cut_edges\n",
    "from gerrychain.metrics import polsby_popper\n",
    "from gerrychain.proposals import recom\n",
    "import os\n",
    "from gerrychain.accept import always_accept\n",
    "\n",
    "from combination import *\n",
    "from candidate import Candidate\n",
    "from ballot import Ballot"
   ]
  },
  {
   "cell_type": "code",
   "execution_count": 4,
   "metadata": {},
   "outputs": [],
   "source": [
    "PROCESSED_SHAPEFILE_PATH = os.path.join(os.getcwd())\n",
    "NC_PATH = os.path.join(PROCESSED_SHAPEFILE_PATH, \"north carolina\", \"precinct_level_w_election.shp\")\n",
    "EXPORT_PATH = os.path.join(PROCESSED_SHAPEFILE_PATH, \"north carolina\")\n",
    "ITERATIONS = 1\n",
    "FOUR_FOUR_FIVE = 3.25\n",
    "TOTAL_DISTRICTS = 13\n"
   ]
  },
  {
   "cell_type": "code",
   "execution_count": 5,
   "metadata": {},
   "outputs": [
    {
     "name": "stderr",
     "output_type": "stream",
     "text": [
      "/Users/alexisperezmendoza/Desktop/python-mggg/mggg/lib/python3.10/site-packages/gerrychain/graph/adjacency.py:21: ShapelyDeprecationWarning: Setting custom attributes on geometry objects is deprecated, and will raise an AttributeError in Shapely 2.0\n",
      "  geometries[i].id = i\n",
      "/Users/alexisperezmendoza/Desktop/python-mggg/mggg/lib/python3.10/site-packages/gerrychain/graph/adjacency.py:23: ShapelyDeprecationWarning: STRtree will be changed in 2.0.0 and will not be compatible with versions < 2.\n",
      "  tree = STRtree(geometries)\n"
     ]
    }
   ],
   "source": [
    "nc_graph = Graph.from_file(NC_PATH, ignore_errors=True)"
   ]
  },
  {
   "cell_type": "code",
   "execution_count": 6,
   "metadata": {},
   "outputs": [],
   "source": [
    "total_population = sum(nc_graph.nodes[node][\"TOTPOP\"] for node in nc_graph.nodes)\n"
   ]
  },
  {
   "cell_type": "code",
   "execution_count": 7,
   "metadata": {},
   "outputs": [],
   "source": [
    "partition_445 = tree.recursive_tree_part(nc_graph, [1, 2, 3], total_population / FOUR_FOUR_FIVE, \"TOTPOP\", 0.01, 1)\n",
    "\n",
    "nc_election = Election(\"CongressionalRace\" , {\"Democratic\": \"D_VOTES\", \"Republican\": \"R_VOTES\"})"
   ]
  },
  {
   "cell_type": "code",
   "execution_count": 8,
   "metadata": {},
   "outputs": [],
   "source": [
    "new_partition445 = GeographicPartition(nc_graph, assignment=partition_445, updaters={\n",
    "        \"population\": Tally(\"TOTPOP\", alias=\"population\"),\n",
    "        \"white\": Tally(\"NH_WHITE\", alias=\"white\"),\n",
    "        \"black\": Tally(\"NH_BLACK\", alias=\"black\"),\n",
    "        \"asian\": Tally(\"NH_ASIAN\", alias=\"asian\"),\n",
    "        \"hisp\": Tally(\"HISP\", alias=\"hisp\"),\n",
    "        \"other\": Tally(\"NH_OTHER\", alias=\"other\"),\n",
    "        \"cut_edges\": cut_edges,\n",
    "        \"CongressionalRace\": nc_election\n",
    "    })"
   ]
  },
  {
   "cell_type": "code",
   "execution_count": 9,
   "metadata": {},
   "outputs": [],
   "source": [
    "ideal_pop445 = total_population / FOUR_FOUR_FIVE\n",
    "proposal445 = partial(recom, pop_col=\"TOTPOP\", pop_target=ideal_pop445, epsilon=.02, node_repeats=2)\n",
    "compactness445 = constraints.UpperBound(\n",
    "    lambda p: len(p[\"cut_edges\"]),\n",
    "    2*len(new_partition445[\"cut_edges\"])\n",
    ")\n",
    "pop_constraint445 = constraints.within_percent_of_ideal_population(new_partition445, 0.3)\n"
   ]
  },
  {
   "cell_type": "code",
   "execution_count": 10,
   "metadata": {},
   "outputs": [],
   "source": [
    "chain445 = MarkovChain(\n",
    "    proposal=proposal445,\n",
    "    constraints=[\n",
    "        compactness445,\n",
    "        pop_constraint445\n",
    "    ],\n",
    "    accept=always_accept,\n",
    "    initial_state=new_partition445,\n",
    "    total_steps=ITERATIONS\n",
    ")"
   ]
  },
  {
   "cell_type": "code",
   "execution_count": null,
   "metadata": {},
   "outputs": [],
   "source": [
    "import random \n",
    "\n",
    "ballot_map = {}\n",
    "vote_map = {}\n",
    "all_candidates_dem = [Candidate(\"Adams, Alma S\", \"Democratic\"), Candidate(\"Butterfield, G.K.\", \"Democratic\"),\n",
    "                     Candidate(\"Manning, Kathy E.\", \"Democratic\"), Candidate(\"Price, David E.\", \"Democratic\"), \n",
    "                     Candidate(\"Ross, Deborah K.\", \"Democratic\"), Candidate(\"Zimmerman, Jeff\", \"Democratic\"),\n",
    "                     Candidate(\"Bridenstine, Jim\", \"Democratic\"), Candidate(\"Carter, Earl\", \"Democratic\"),\n",
    "                     Candidate(\"Cohen, Steve\", \"Democratic\"), Candidate(\"Cramer, Kevin\", \"Democratic\"),\n",
    "                     Candidate(\"Cummings, Elijah E.\", \"Democratic\"), Candidate(\"Davis, Rodney\", \"Democratic\"),\n",
    "                     Candidate(\"DeLauro, Rosa L.\", \"Democratic\") ]\n",
    "                     \n",
    "all_candidates_rep = [Candidate(\"Bishop, Dan\", \"Republican\"), \n",
    "                     Candidate(\"Budd, Ted\", \"Republican\"), Candidate(\"Cawthorn, Madison\", \"Republican\"), \n",
    "                     Candidate(\"Foxx, Virginia\", \"Republican\"), Candidate(\"Hudson, Richard\", \"Republican\"), \n",
    "                     Candidate(\"McHenry, Patrick T.\", \"Republican\"), Candidate(\"Murphy, Gregory\", \"Republican\"), \n",
    "                     Candidate(\"Rouzer, David\", \"Republican\"),\n",
    "                     Candidate(\"Stevens, Mark\", \"Republican\"), Candidate(\"Womack, Steve\", \"Republican\"),\n",
    "                     Candidate(\"Wright, Ron\", \"Republican\"), Candidate(\"Yoder, Kevin\", \"Republican\"),\n",
    "                     Candidate(\"Zengerle, Mark\", \"Republican\")]\n",
    "\n",
    "\n",
    "for step in chain445:\n",
    "    for part in step.parts:\n",
    "        ballots = []\n",
    "\n",
    "        total_reps = round((step[\"population\"][part] / total_population) * TOTAL_DISTRICTS)\n",
    "        dem_candidates = []\n",
    "        rep_candidates = []\n",
    "        for i in range(total_reps):\n",
    "            dem_candidates.append(all_candidates_dem.pop())\n",
    "            rep_candidates.append(all_candidates_rep.pop())\n",
    "\n",
    "        rep_votes = 0\n",
    "        dem_votes = 0\n",
    "        for node in step.parts[part]:\n",
    "            random.shuffle(dem_candidates)\n",
    "            random.shuffle(rep_candidates)\n",
    "            # Create ballots for the Republican and Democratic candidates\n",
    "            ballots += [Ballot([rep for rep in rep_candidates]) for _ in range(round(nc_graph.nodes[node][\"R_VOTES\"]))]\n",
    "            ballots += [Ballot([dem for dem in dem_candidates]) for _ in range(round(nc_graph.nodes[node][\"D_VOTES\"]))]\n",
    "            rep_votes += round(nc_graph.nodes[node][\"R_VOTES\"])\n",
    "            dem_votes += round(nc_graph.nodes[node][\"D_VOTES\"])\n",
    "        ballot_map[part] = ballots\n",
    "        vote_map[part] = (dem_votes + rep_votes, total_reps)\n"
   ]
  },
  {
   "cell_type": "code",
   "execution_count": 19,
   "metadata": {},
   "outputs": [],
   "source": [
    "from collections import Counter\n",
    "\n",
    "election_results_uneven = {}\n",
    "initial_votes_uneven = {}\n",
    "\n",
    "for district in ballot_map:\n",
    "    ballots = ballot_map[district]\n",
    "    winning_threshold = vote_map[district][0] / (1+vote_map[district][1])\n",
    "    vote_counts = Counter()\n",
    "\n",
    "    remaining_candidates = []\n",
    "    eliminated_candidates = []\n",
    "    winners = []\n",
    "    winner_count = 0\n",
    "    candidates_dict = {}\n",
    "    rounds = 0\n",
    "\n",
    "    for ballot in ballots:\n",
    "        first_candidate = ballot.rankings[0]\n",
    "        vote_counts[first_candidate] += ballot.weight\n",
    "\n",
    "    remaining_candidates = vote_counts.most_common((vote_map[district][1] * 2) + 2)\n",
    "    remaining_candidates.sort(key=lambda x: x[1], reverse=True)\n",
    "    initial_votes_uneven[district] = remaining_candidates\n",
    "\n",
    "    while(True):\n",
    "        remaining_candidates = vote_counts.most_common((vote_map[district][1] * 2) - rounds - winner_count + 2)\n",
    "        remaining_candidates.sort(key=lambda x: x[1], reverse=True)\n",
    "\n",
    "        if len(remaining_candidates)-1 + len(winners) == vote_map[district][1]:\n",
    "            winners += remaining_candidates\n",
    "            eliminated_candidates.append(winners.pop())\n",
    "            break\n",
    "\n",
    "        # SURPLUS ROUND\n",
    "        first_place = remaining_candidates[0]\n",
    "        if first_place[1] >= winning_threshold:\n",
    "            remaining_candidates.remove(first_place)\n",
    "            surplus = first_place[1] - winning_threshold\n",
    "\n",
    "            sp_count = 0\n",
    "            for ballot in ballots:\n",
    "                if ballot.rankings[0] == first_place[0]:\n",
    "                    ballot.rankings.remove(ballot.rankings[0])\n",
    "                    ballot.set_weight(ballot.get_weight() * .8)\n",
    "                    vote_counts[ballot.rankings[0]] = round(ballot.weight + vote_counts[ballot.rankings[0]], 4)\n",
    "                    sp_count += 1\n",
    "                    if sp_count >= surplus:\n",
    "                        break\n",
    "            for ballot in ballots:\n",
    "                if ballot.rankings[0] == first_place[0]:\n",
    "                    vote_counts[ballot.rankings[0]] -= 1\n",
    "\n",
    "            first_place = (first_place[0], winning_threshold)\n",
    "            winners.append(first_place) \n",
    "            rounds +=1\n",
    "            winner_count += 1\n",
    "            continue\n",
    "\n",
    "        # ELIMINATION ROUND\n",
    "        eliminated = remaining_candidates[(vote_map[district][1] * 2) - rounds-1 + 2]\n",
    "        if len(remaining_candidates)-1 + len(winners) == vote_map[district][1]:\n",
    "            remaining_candidates.remove(eliminated)\n",
    "            winners += remaining_candidates\n",
    "            eliminated_candidates.append(eliminated)\n",
    "            break\n",
    "        for ballot in ballots:\n",
    "            if ballot.rankings[0] == eliminated[0]:\n",
    "                ballot.rankings.remove(ballot.rankings[0])\n",
    "                ballot.set_weight(ballot.get_weight() * .8)\n",
    "                vote_counts[ballot.rankings[0]] = round(ballot.weight + vote_counts[ballot.rankings[0]], 4)\n",
    "                \n",
    "        for ballot in ballots:\n",
    "            if ballot.rankings[0] == eliminated[0]:\n",
    "                vote_counts[ballot.rankings[0]] -= 1\n",
    "\n",
    "        eliminated_candidates.append(eliminated)\n",
    "        rounds += 1\n",
    "        election_results_uneven[district] = {\"Winners\": winners, \"Eliminated\": eliminated_candidates, \"Initial Votes\": initial_votes_uneven[district]}\n"
   ]
  },
  {
   "cell_type": "code",
   "execution_count": 20,
   "metadata": {},
   "outputs": [],
   "source": [
    "# make the candidates json serializable\n",
    "for district in election_results_uneven:\n",
    "    winners = election_results_uneven[district][\"Winners\"]\n",
    "    eliminated = election_results_uneven[district][\"Eliminated\"]\n",
    "    initial_votes = election_results_uneven[district][\"Initial Votes\"]\n",
    "    election_results_uneven[district][\"RepCountTotal\"] = vote_map[district][1]\n",
    "    election_results_uneven[district][\"VoteThreshold\"] = vote_map[district][0] / (1+vote_map[district][1])\n",
    "    election_results_uneven[district][\"Winners\"] = [(winner[0].name, winner[0].party, winner[1]) for winner in winners]\n",
    "    election_results_uneven[district][\"Eliminated\"] = [(eliminated[0].name, eliminated[0].party, eliminated[1]) for eliminated in eliminated]\n",
    "    election_results_uneven[district][\"Initial Votes\"] = [(initial_votes[0].name, initial_votes[0].party, initial_votes[1]) for initial_votes in initial_votes]\n"
   ]
  },
  {
   "cell_type": "code",
   "execution_count": 21,
   "metadata": {},
   "outputs": [],
   "source": [
    "import json\n",
    "# Export the results to a JSON file\n",
    "with open('nc_election_results.json', 'w') as fp:\n",
    "    json.dump(election_results_uneven, fp)\n",
    "    \n"
   ]
  }
 ],
 "metadata": {
  "kernelspec": {
   "display_name": "Python 3.10.7 64-bit",
   "language": "python",
   "name": "python3"
  },
  "language_info": {
   "codemirror_mode": {
    "name": "ipython",
    "version": 3
   },
   "file_extension": ".py",
   "mimetype": "text/x-python",
   "name": "python",
   "nbconvert_exporter": "python",
   "pygments_lexer": "ipython3",
   "version": "3.10.7"
  },
  "orig_nbformat": 4,
  "vscode": {
   "interpreter": {
    "hash": "b0fa6594d8f4cbf19f97940f81e996739fb7646882a419484c72d19e05852a7e"
   }
  }
 },
 "nbformat": 4,
 "nbformat_minor": 2
}
