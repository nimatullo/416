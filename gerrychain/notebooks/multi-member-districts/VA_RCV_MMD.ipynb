{
 "cells": [
  {
   "cell_type": "code",
   "execution_count": 31,
   "metadata": {},
   "outputs": [],
   "source": [
    "import pandas as pd\n",
    "import geopandas as gpd\n",
    "import matplotlib.pyplot as plt\n",
    "from matplotlib.ticker import MaxNLocator\n",
    "from gerrychain import Graph, GeographicPartition, Election, MarkovChain, tree, constraints\n",
    "from functools import partial\n",
    "from gerrychain.updaters import Tally, cut_edges\n",
    "from gerrychain.metrics import polsby_popper\n",
    "from gerrychain.proposals import recom\n",
    "import os\n",
    "from gerrychain.accept import always_accept\n",
    "\n",
    "from combination import *\n",
    "from candidate import Candidate\n",
    "from ballot import Ballot"
   ]
  },
  {
   "cell_type": "code",
   "execution_count": 32,
   "metadata": {},
   "outputs": [],
   "source": [
    "PROCESSED_SHAPEFILE_PATH = os.path.join(os.getcwd())\n",
    "VA_PATH = os.path.join(PROCESSED_SHAPEFILE_PATH, \"virginia\", \"VA_precincts.shp\")\n",
    "EXPORT_PATH = os.path.join(PROCESSED_SHAPEFILE_PATH, \"virginia\")\n",
    "\n",
    "ITERATIONS = 1\n",
    "SAFE_SEAT_THRESHOLD = 0.66\n",
    "MINORITY_POP_THRESHOLD = RACE_WINNER_THRESHOLD = 0.5\n",
    "TOTAL_DISTRICTS = 10\n",
    "FIVE_FIVE = 2\n",
    "THREE_THREE_FOUR = 3.35\n"
   ]
  },
  {
   "cell_type": "code",
   "execution_count": 33,
   "metadata": {},
   "outputs": [
    {
     "name": "stderr",
     "output_type": "stream",
     "text": [
      "/Users/alexisperezmendoza/Desktop/python-mggg/mggg/lib/python3.10/site-packages/gerrychain/graph/adjacency.py:21: ShapelyDeprecationWarning: Setting custom attributes on geometry objects is deprecated, and will raise an AttributeError in Shapely 2.0\n",
      "  geometries[i].id = i\n",
      "/Users/alexisperezmendoza/Desktop/python-mggg/mggg/lib/python3.10/site-packages/gerrychain/graph/adjacency.py:23: ShapelyDeprecationWarning: STRtree will be changed in 2.0.0 and will not be compatible with versions < 2.\n",
      "  tree = STRtree(geometries)\n",
      "/Users/alexisperezmendoza/Desktop/python-mggg/mggg/lib/python3.10/site-packages/gerrychain/graph/adjacency.py:66: UserWarning: Found overlaps among the given polygons. Indices of overlaps: {(887, 892), (893, 915), (892, 914), (887, 893)}\n",
      "  warnings.warn(\n",
      "/Users/alexisperezmendoza/Desktop/python-mggg/mggg/lib/python3.10/site-packages/gerrychain/graph/graph.py:296: UserWarning: NA values found in column G17DGOV!\n",
      "  warnings.warn(\"NA values found in column {}!\".format(column))\n"
     ]
    }
   ],
   "source": [
    "va_graph = Graph.from_file(VA_PATH, ignore_errors=True)"
   ]
  },
  {
   "cell_type": "code",
   "execution_count": 34,
   "metadata": {},
   "outputs": [],
   "source": [
    "for node in va_graph.nodes:\n",
    "    # Convert all votes to numbers to avoid NaNs \n",
    "    va_graph.nodes[node][\"G18DHOR\"] = float(va_graph.nodes[node][\"G18DHOR\"])\n",
    "    va_graph.nodes[node][\"G18RHOR\"] = float(va_graph.nodes[node][\"G18DSEN\"])\n",
    "    if not va_graph.nodes[node][\"G18DHOR\"]:\n",
    "        print(node)\n",
    "    if not va_graph.nodes[node][\"G18RHOR\"]:\n",
    "        print(node)\n"
   ]
  },
  {
   "cell_type": "code",
   "execution_count": 35,
   "metadata": {},
   "outputs": [],
   "source": [
    "total_population = sum(va_graph.nodes[node][\"TOTPOP\"] for node in va_graph.nodes)\n"
   ]
  },
  {
   "cell_type": "code",
   "execution_count": 36,
   "metadata": {},
   "outputs": [],
   "source": [
    "partition_334 = tree.recursive_tree_part(va_graph, [1, 2, 3], total_population / THREE_THREE_FOUR, \"TOTPOP\", 0.01, 1)\n",
    "\n",
    "va_election = Election(\"CongressionalRace\" , {\"Democratic\": \"G18DHOR\", \"Republican\": \"G18RHOR\"})"
   ]
  },
  {
   "cell_type": "code",
   "execution_count": 37,
   "metadata": {},
   "outputs": [],
   "source": [
    "new_partition334 = GeographicPartition(va_graph, assignment=partition_334, updaters={\n",
    "        \"population\": Tally(\"TOTPOP\", alias=\"population\"),\n",
    "        \"white\": Tally(\"NH_WHITE\", alias=\"white\"),\n",
    "        \"black\": Tally(\"NH_BLACK\", alias=\"black\"),\n",
    "        \"asian\": Tally(\"NH_ASIAN\", alias=\"asian\"),\n",
    "        \"hisp\": Tally(\"HISP\", alias=\"hisp\"),\n",
    "        \"other\": Tally(\"NH_OTHER\", alias=\"other\"),\n",
    "        \"cut_edges\": cut_edges,\n",
    "        \"CongressionalRace\": va_election\n",
    "    })"
   ]
  },
  {
   "cell_type": "code",
   "execution_count": 38,
   "metadata": {},
   "outputs": [],
   "source": [
    "ideal_pop55 = total_population / FIVE_FIVE\n",
    "proposal55 = partial(recom, pop_col=\"TOTPOP\", pop_target=ideal_pop55, epsilon=.01, node_repeats=2)\n",
    "compactness55 = constraints.UpperBound(\n",
    "    lambda p: len(p[\"cut_edges\"]),\n",
    "    2*len(new_partition334[\"cut_edges\"])\n",
    ")\n",
    "pop_constraint55 = constraints.within_percent_of_ideal_population(new_partition334, 0.3)\n"
   ]
  },
  {
   "cell_type": "code",
   "execution_count": 39,
   "metadata": {},
   "outputs": [],
   "source": [
    "chain334 = MarkovChain(\n",
    "    proposal=proposal55,\n",
    "    constraints=[\n",
    "        compactness55,\n",
    "        pop_constraint55\n",
    "    ],\n",
    "    accept=always_accept,\n",
    "    initial_state=new_partition334,\n",
    "    total_steps=ITERATIONS\n",
    ")\n"
   ]
  },
  {
   "cell_type": "code",
   "execution_count": 98,
   "metadata": {},
   "outputs": [],
   "source": [
    "import random \n",
    "\n",
    "ballot_map = {}\n",
    "vote_map = {}\n",
    "all_candidates_dem = [Candidate(\"Wexton, Jennifer\", \"Democratic\"), Candidate(\"Spanberger, Abigail Davis.\", \"Democratic\"),\n",
    "                     Candidate(\"Scott, Robert C.\", \"Democratic\"), Candidate(\"Luria, Elaine G.\", \"Democratic\"), \n",
    "                     Candidate(\"Connolly, Gerald E.\", \"Democratic\"), Candidate(\"Beyer, Donald S. Jr.\", \"Democratic\"),\n",
    "                     Candidate(\"Bridenstine, Jimmy\", \"Democratic\"), Candidate(\"Carter, James\", \"Democratic\"),\n",
    "                     Candidate(\"Smith, Steve\", \"Democratic\"), Candidate(\"Cramer, David\", \"Democratic\"),\n",
    "                      ]\n",
    "                     \n",
    "all_candidates_rep = [Candidate(\"Wittman, Robert J\", \"Republican\"), \n",
    "                     Candidate(\"Giffith, H. Morgan\", \"Republican\"), Candidate(\"Good, Bob\", \"Republican\"), \n",
    "                     Candidate(\"Cline, Ben\", \"Republican\"), Candidate(\"Hudson, Richard\", \"Republican\"), \n",
    "                     Candidate(\"McHenry, Patrick T.\", \"Republican\"), Candidate(\"Murphy, Gregory\", \"Republican\"), \n",
    "                     Candidate(\"Rouzer, David\", \"Republican\"),\n",
    "                     Candidate(\"Stevens, Jax\", \"Republican\"), Candidate(\"White, Steve\", \"Republican\"),\n",
    "                     ]\n",
    "\n",
    "\n",
    "for step in chain334:\n",
    "    for part in step.parts:\n",
    "        ballots = []\n",
    "\n",
    "        total_reps = round((step[\"population\"][part] / total_population) * TOTAL_DISTRICTS)\n",
    "        dem_candidates = []\n",
    "        rep_candidates = []\n",
    "      \n",
    "        for i in range(total_reps):\n",
    "            dem_candidates.append(all_candidates_dem.pop())\n",
    "\n",
    "        for i in range(total_reps):\n",
    "            rep_candidates.append(all_candidates_rep.pop())\n",
    "\n",
    "        rep_votes = 0\n",
    "        dem_votes = 0\n",
    "        for node in step.parts[part]:\n",
    "            random.shuffle(dem_candidates)\n",
    "            random.shuffle(rep_candidates)\n",
    "            # Create ballots for the Republican and Democratic candidates\n",
    "            ballots += [Ballot([rep for rep in rep_candidates]) for _ in range(round(int(va_graph.nodes[node][\"G18RHOR\"])))]\n",
    "            ballots += [Ballot([dem for dem in dem_candidates]) for _ in range(round(int(va_graph.nodes[node][\"G18DHOR\"])))]\n",
    "            rep_votes += round(int(va_graph.nodes[node][\"G18RHOR\"]))\n",
    "            dem_votes += round(int(va_graph.nodes[node][\"G18DHOR\"]))\n",
    "        ballot_map[part] = ballots\n",
    "        vote_map[part] = (dem_votes + rep_votes, total_reps)\n"
   ]
  },
  {
   "cell_type": "code",
   "execution_count": 99,
   "metadata": {},
   "outputs": [],
   "source": [
    "from collections import Counter\n",
    "\n",
    "election_results = {}\n",
    "initial_votes = {}\n",
    "\n",
    "for district in ballot_map:\n",
    "    ballots = ballot_map[district]\n",
    "    winning_threshold = vote_map[district][0] / (1+vote_map[district][1])\n",
    "    vote_counts = Counter()\n",
    "\n",
    "    remaining_candidates = []\n",
    "    eliminated_candidates = []\n",
    "    winners = []\n",
    "    winner_count = 0\n",
    "    candidates_dict = {}\n",
    "    rounds = 0\n",
    "\n",
    "    for ballot in ballots:\n",
    "        first_candidate = ballot.rankings[0]\n",
    "        vote_counts[first_candidate] += ballot.weight\n",
    "    if district == 1 or district == 2:\n",
    "        remaining_candidates = vote_counts.most_common((vote_map[district][1] * 2 + 2))\n",
    "    else:   \n",
    "        remaining_candidates = vote_counts.most_common((vote_map[district][1] * 2))\n",
    "\n",
    "    remaining_candidates.sort(key=lambda x: x[1], reverse=True)\n",
    "    initial_votes[district] = remaining_candidates\n",
    "\n",
    "    while(True):\n",
    "\n",
    "        remaining_candidates = vote_counts.most_common((vote_map[district][1] * 2) - rounds - winner_count)\n",
    "        remaining_candidates.sort(key=lambda x: x[1], reverse=True)\n",
    "\n",
    "        if len(remaining_candidates)-1 + len(winners) == vote_map[district][1]:\n",
    "            winners += remaining_candidates\n",
    "            eliminated_candidates.append(winners.pop())\n",
    "            break\n",
    "\n",
    "        # SURPLUS ROUND\n",
    "        first_place = remaining_candidates[0]\n",
    "        if first_place[1] >= winning_threshold:\n",
    "            remaining_candidates.remove(first_place)\n",
    "            surplus = first_place[1] - winning_threshold\n",
    "            sp_count = 0\n",
    "            for ballot in ballots:\n",
    "                if ballot.rankings[0] == first_place[0]:\n",
    "                    ballot.rankings.remove(ballot.rankings[0])\n",
    "                    ballot.set_weight(ballot.get_weight() * .8)\n",
    "                    vote_counts[ballot.rankings[0]] = round(ballot.weight + vote_counts[ballot.rankings[0]], 4)\n",
    "                    sp_count += 1\n",
    "                    if sp_count >= surplus:\n",
    "                        break\n",
    "            for ballot in ballots:\n",
    "                if ballot.rankings[0] == first_place[0]:\n",
    "                    vote_counts[ballot.rankings[0]] -= 1\n",
    "\n",
    "            first_place = (first_place[0], winning_threshold)\n",
    "            winners.append(first_place) \n",
    "            rounds +=1\n",
    "            winner_count += 1\n",
    "            continue\n",
    "\n",
    "        # ELIMINATION ROUND\n",
    "        eliminated = remaining_candidates[(vote_map[district][1] * 2) - rounds-1]\n",
    "        if len(remaining_candidates)-1 + len(winners) == vote_map[district][1]:\n",
    "            remaining_candidates.remove(eliminated)\n",
    "            winners += remaining_candidates\n",
    "            eliminated_candidates.append(eliminated)\n",
    "            break\n",
    "        for ballot in ballots:\n",
    "            if ballot.rankings[0] == eliminated[0]:\n",
    "                ballot.rankings.remove(ballot.rankings[0])\n",
    "                ballot.set_weight(ballot.get_weight() * .8)\n",
    "                vote_counts[ballot.rankings[0]] = round(ballot.weight + vote_counts[ballot.rankings[0]], 4)\n",
    "                \n",
    "        for ballot in ballots:\n",
    "            if ballot.rankings[0] == eliminated[0]:\n",
    "                vote_counts[ballot.rankings[0]] -= 1\n",
    "\n",
    "        eliminated_candidates.append(eliminated)\n",
    "        rounds += 1\n",
    "        election_results[district] = {\"Winners\": winners, \"Eliminated\": eliminated_candidates, \"Initial Votes\": initial_votes[district]}\n"
   ]
  },
  {
   "cell_type": "code",
   "execution_count": 100,
   "metadata": {},
   "outputs": [],
   "source": [
    "# make the candidates json serializable\n",
    "for district in election_results:\n",
    "    winners = election_results[district][\"Winners\"]\n",
    "    eliminated = election_results[district][\"Eliminated\"]\n",
    "    initial_votes = election_results[district][\"Initial Votes\"]\n",
    "    election_results[district][\"RepCountTotal\"] = vote_map[district][1]\n",
    "    election_results[district][\"VoteThreshold\"] = vote_map[district][0] / (1+vote_map[district][1])\n",
    "    election_results[district][\"Winners\"] = [(winner[0].name, winner[0].party, winner[1]) for winner in winners]\n",
    "    election_results[district][\"Eliminated\"] = [(eliminated[0].name, eliminated[0].party, eliminated[1]) for eliminated in eliminated]\n",
    "    election_results[district][\"Initial Votes\"] = [(initial_votes[0].name, initial_votes[0].party, initial_votes[1]) for initial_votes in initial_votes]\n"
   ]
  },
  {
   "cell_type": "code",
   "execution_count": 101,
   "metadata": {},
   "outputs": [],
   "source": [
    "import json\n",
    "# Export the results to a JSON file\n",
    "with open('va_election_results.json', 'w') as fp:\n",
    "    json.dump(election_results, fp)\n",
    "    \n"
   ]
  }
 ],
 "metadata": {
  "kernelspec": {
   "display_name": "Python 3.10.7 64-bit",
   "language": "python",
   "name": "python3"
  },
  "language_info": {
   "codemirror_mode": {
    "name": "ipython",
    "version": 3
   },
   "file_extension": ".py",
   "mimetype": "text/x-python",
   "name": "python",
   "nbconvert_exporter": "python",
   "pygments_lexer": "ipython3",
   "version": "3.10.7"
  },
  "orig_nbformat": 4,
  "vscode": {
   "interpreter": {
    "hash": "b0fa6594d8f4cbf19f97940f81e996739fb7646882a419484c72d19e05852a7e"
   }
  }
 },
 "nbformat": 4,
 "nbformat_minor": 2
}
