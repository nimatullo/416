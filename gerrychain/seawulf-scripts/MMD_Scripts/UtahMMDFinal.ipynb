{
 "cells": [
  {
   "cell_type": "code",
   "execution_count": 498,
   "metadata": {},
   "outputs": [],
   "source": [
    "import pandas as pd\n",
    "import geopandas as gpd\n",
    "import matplotlib.pyplot as plt\n",
    "from matplotlib.ticker import MaxNLocator\n",
    "from gerrychain import Graph, GeographicPartition, Election, MarkovChain, tree, constraints\n",
    "from functools import partial\n",
    "from gerrychain.updaters import Tally, cut_edges\n",
    "from gerrychain.metrics import polsby_popper\n",
    "from gerrychain.proposals import recom\n",
    "import os\n",
    "from gerrychain.accept import always_accept\n",
    "\n",
    "from candidate import Candidate"
   ]
  },
  {
   "cell_type": "code",
   "execution_count": 499,
   "metadata": {},
   "outputs": [],
   "source": [
    "PROCESSED_SHAPEFILE_PATH = os.path.join(os.getcwd())\n",
    "UT_PATH = os.path.join(PROCESSED_SHAPEFILE_PATH, \"utah\", \"UT_precincts.shp\")\n",
    "EXPORT_PATH = os.path.join(PROCESSED_SHAPEFILE_PATH, \"utah\")\n",
    "\n",
    "ITERATIONS = 1\n",
    "SAFE_SEAT_THRESHOLD = 0.66\n",
    "MINORITY_POP_THRESHOLD = RACE_WINNER_THRESHOLD = 0.5\n",
    "TOTAL_DISTRICTS = 4\n",
    "ONE = 1"
   ]
  },
  {
   "cell_type": "code",
   "execution_count": 500,
   "metadata": {},
   "outputs": [],
   "source": [
    "ut_graph = Graph.from_file(UT_PATH, ignore_errors=True)"
   ]
  },
  {
   "cell_type": "code",
   "execution_count": 501,
   "metadata": {},
   "outputs": [],
   "source": [
    "total_population = sum(ut_graph.nodes[node][\"TOTPOP\"] for node in ut_graph.nodes)\n",
    "\n",
    "candidate_D1 = Candidate(\"Democrat1\", \"Democratic\")\n",
    "candidate_D2 = Candidate(\"Democrat2\", \"Democratic\")\n",
    "candidate_D3 = Candidate(\"Democrat3\", \"Democratic\")\n",
    "candidate_D4 = Candidate(\"Democrat4\", \"Democratic\")\n",
    "candidate_D5 = Candidate(\"Democrat5\", \"Democratic\")\n",
    "candidate_R1 = Candidate(\"Republican1\", \"Republican\")\n",
    "candidate_R2 = Candidate(\"Republican2\", \"Republican\")\n",
    "candidate_R3 = Candidate(\"Republican3\", \"Republican\")\n",
    "candidate_R4 = Candidate(\"Republican4\", \"Republican\")\n",
    "candidate_R5 = Candidate(\"Republican5\", \"Republican\")"
   ]
  },
  {
   "cell_type": "code",
   "execution_count": 502,
   "metadata": {},
   "outputs": [],
   "source": [
    "partition_1 = tree.recursive_tree_part(ut_graph, [1], total_population, \"TOTPOP\", 0.01, 1)\n",
    "\n",
    "ut_election = Election(\"CongressionalRace\" , {\"Democratic\": \"SEN16D\", \"Republican\": \"SEN16R\"})"
   ]
  },
  {
   "cell_type": "code",
   "execution_count": 503,
   "metadata": {},
   "outputs": [],
   "source": [
    "new_partition = GeographicPartition(ut_graph, assignment=partition_1, updaters={\n",
    "        \"population\": Tally(\"TOTPOP\", alias=\"population\"),\n",
    "        \"white\": Tally(\"NH_WHITE\", alias=\"white\"),\n",
    "        \"black\": Tally(\"NH_BLACK\", alias=\"black\"),\n",
    "        \"asian\": Tally(\"NH_ASIAN\", alias=\"asian\"),\n",
    "        \"hisp\": Tally(\"HISP\", alias=\"hisp\"),\n",
    "        \"other\": Tally(\"NH_OTHER\", alias=\"other\"),\n",
    "        \"cut_edges\": cut_edges,\n",
    "        \"CongressionalRace\": ut_election\n",
    "    })"
   ]
  },
  {
   "cell_type": "code",
   "execution_count": 504,
   "metadata": {},
   "outputs": [],
   "source": [
    "ideal_pop = total_population / ONE\n",
    "proposal = partial(recom, pop_col=\"TOTPOP\", pop_target=ideal_pop, epsilon=.02, node_repeats=2)\n",
    "compactness = constraints.UpperBound(\n",
    "    lambda p: len(p[\"cut_edges\"]),\n",
    "    2*len(new_partition[\"cut_edges\"])\n",
    ")\n",
    "pop_constraint = constraints.within_percent_of_ideal_population(new_partition, 0.3)\n"
   ]
  },
  {
   "cell_type": "code",
   "execution_count": 505,
   "metadata": {},
   "outputs": [],
   "source": [
    "chain1 = MarkovChain(\n",
    "    proposal=proposal,\n",
    "    constraints=[\n",
    "    ],\n",
    "    accept=always_accept,\n",
    "    initial_state=new_partition,\n",
    "    total_steps=ITERATIONS\n",
    ")\n",
    "\n"
   ]
  },
  {
   "cell_type": "code",
   "execution_count": 506,
   "metadata": {},
   "outputs": [
    {
     "name": "stdout",
     "output_type": "stream",
     "text": [
      "OPPORTUNITY_REP_COUNT: 1\n",
      "0.15863692796944018\n"
     ]
    }
   ],
   "source": [
    "import warnings\n",
    "warnings.filterwarnings('ignore')\n",
    "\n",
    "polsby_popper_scores = pd.DataFrame()\n",
    "dem_splits = pd.DataFrame()\n",
    "rep_splits = pd.DataFrame()\n",
    "black_pop = pd.DataFrame()\n",
    "asian_pop = pd.DataFrame()\n",
    "hisp_pop = pd.DataFrame()\n",
    "white_pop = pd.DataFrame()\n",
    "total_pop = pd.DataFrame()\n",
    "equal_pop = pd.DataFrame()\n",
    "\n",
    "all_data = {}\n",
    "\n",
    "\n",
    "opportunity_reps_count = pd.DataFrame()\n",
    "\n",
    "\n",
    "unique_plans = {}\n",
    "OPPORTUNITY_REP_COUNT = int(TOTAL_DISTRICTS * 0.25)\n",
    "print(f\"OPPORTUNITY_REP_COUNT: {OPPORTUNITY_REP_COUNT}\")\n",
    "\n",
    "master_dict = {\"chain1\": chain1}\n",
    "dem_candidates = [candidate_D1, candidate_D2, candidate_D3, candidate_D4, candidate_D5]\n",
    "rep_candidates = [candidate_R1, candidate_R2, candidate_R3, candidate_R4, candidate_R5]\n",
    "\n",
    "chain_dict = {}\n",
    "for link in master_dict:\n",
    "    all_elections = []\n",
    "\n",
    "    lst_opp_reps = []\n",
    "    opportunity_reps = pd.DataFrame()\n",
    "    district_series = {}\n",
    "    # Print the number of districts in each plan\n",
    "    num_districts = 0\n",
    "    for step in master_dict[link]:\n",
    "        num_districts = len(step[\"population\"])\n",
    "        break\n",
    "    for district in range(1, num_districts+1):\n",
    "        district_series[str(district)] = pd.Series()\n",
    "    for step in master_dict[link]:\n",
    "        blk = pd.Series(step[\"black\"])\n",
    "        asn = pd.Series(step[\"asian\"])\n",
    "        hsp = pd.Series(step[\"hisp\"])\n",
    "        wt = pd.Series(step[\"white\"])\n",
    "        tot = pd.Series(step[\"population\"])\n",
    "        eq_pop = pd.Series(max(step[\"population\"].values()) - min(step[\"population\"].values()))\n",
    "        polsby_popper_scores = polsby_popper_scores.append(pd.Series(polsby_popper(step)), ignore_index=True)\n",
    "        black_pop = black_pop.append(blk, ignore_index=True)\n",
    "        asian_pop = asian_pop.append(asn, ignore_index=True)\n",
    "        hisp_pop = hisp_pop.append(hsp, ignore_index=True)\n",
    "        white_pop = white_pop.append(wt, ignore_index=True)\n",
    "        total_pop = total_pop.append(tot, ignore_index=True)\n",
    "        \n",
    "        \n",
    "        equal_pop = equal_pop.append(eq_pop.values[0] / tot, ignore_index=True)       \n",
    "        dem_splits = dem_splits.append(pd.Series(step[\"CongressionalRace\"].percents(\"Democratic\")), ignore_index=True)\n",
    "        rep_splits = rep_splits.append(pd.Series(step[\"CongressionalRace\"].percents(\"Republican\")), ignore_index=True)\n",
    "\n",
    "\n",
    "        minority_pop = blk + asn + hsp\n",
    "        minority_pop_percentage = minority_pop / tot\n",
    "        minorit_pop_threshold = minority_pop_percentage /  TOTAL_DISTRICTS\n",
    "        opp_reps = pd.Series(minority_pop_percentage[minority_pop_percentage > minorit_pop_threshold].count())\n",
    "        opportunity_reps_count = opportunity_reps_count.append(opp_reps, ignore_index=True)\n",
    "\n",
    "        election = {}\n",
    "        sum_of_ops = 0\n",
    "\n",
    "        for district, pop in step[\"population\"].items():\n",
    "            min_pop = (step[\"black\"][district] + step[\"asian\"][district] + step[\"hisp\"][district]) / step[\"population\"][district]\n",
    "            op_rep = min_pop * len(step[\"population\"])\n",
    "            sum_of_ops += op_rep\n",
    "            minority_pop_dist = step[\"black\"][district] + step[\"asian\"][district] + step[\"hisp\"][district]\n",
    "            value = round((len(step[\"population\"]) * min_pop))\n",
    "            # print(link, minority_pop_dist, 100 / len(step[\"population\"]) *  0.01 * pop)\n",
    "            if str(district) in district_series:\n",
    "                district_series[str(district)] = district_series[str(district)].append(pd.Series(value), ignore_index=True)\n",
    "                \n",
    "\n",
    "            dem = pd.Series(step[\"CongressionalRace\"].percents(\"Democratic\")[district-1])\n",
    "            rep = pd.Series(step[\"CongressionalRace\"].percents(\"Republican\")[district-1])\n",
    "            dem_seat_share_percentage = dem[dem > 0.5].count() / TOTAL_DISTRICTS\n",
    "            dem_vote_share_percentage = dem.mean()\n",
    "\n",
    "\n",
    "            top_candidates = {} # Key = name of candidate, Value = number of votes\n",
    "            for cand in dem_candidates:\n",
    "                top_candidates[cand.get_name()] = 0\n",
    "            for cand in rep_candidates:\n",
    "                top_candidates[cand.get_name()] = 0\n",
    "            total_reps = round((step[\"population\"][district] / total_population) * TOTAL_DISTRICTS)\n",
    "            dem_votes = step[\"CongressionalRace\"].votes(\"Democratic\")[district-1]\n",
    "            rep_votes = step[\"CongressionalRace\"].votes(\"Republican\")[district-1]\n",
    "            weight = 1\n",
    "            for cand in range(total_reps):\n",
    "                top_candidates[rep_candidates[cand].get_name()] += (weight * rep_votes)\n",
    "                top_candidates[dem_candidates[cand].get_name()] += (weight * dem_votes)\n",
    "                weight -= .15\n",
    "            election[district] = top_candidates\n",
    "            \n",
    "            for part in election:\n",
    "                election[part] = dict(sorted(election[part].items(), key=lambda item: item[1], reverse=True))\n",
    "\n",
    "            if dem.max() > 0.6:\n",
    "                unique_plans[\"High Democrat Concentration In District - \"+link] = [step, election]\n",
    "                \n",
    "            if rep.max() > 0.6:\n",
    "                unique_plans[\"High Republican Concentration In District - \"+link] = [step, election]\n",
    "            min_threshold = (100 / len(step[\"population\"]) * 0.01 * pop)\n",
    "            if minority_pop_percentage[minority_pop_percentage > min_threshold].count().sum() >= OPPORTUNITY_REP_COUNT:\n",
    "                unique_plans[\"High Opportunity Representative Count\"+link] = [step, election]\n",
    "                \n",
    "            if abs(dem_seat_share_percentage - dem_vote_share_percentage) > 0.15:\n",
    "                unique_plans[\"Large Difference Between Democrat Vote Share and Seat Share - \"+link] = [step, election]\n",
    "                \n",
    "            if abs((1-dem_seat_share_percentage) - (1-dem_vote_share_percentage)) > 0.15:\n",
    "                unique_plans[\"Large Difference Between Republican Vote Share and Seat Share - \"+link] = [step, election]\n",
    "        all_elections.append(election)\n",
    "        lst_opp_reps.append(sum_of_ops)\n",
    "        opportunity_reps = pd.DataFrame(list(district_series.values()), index=list(district_series.keys()))\n",
    "\n",
    "    chain_dict[master_dict[link]] = all_elections\n",
    "    minority_pop = black_pop + asian_pop + hisp_pop\n",
    "    dem_seat_share = dem_splits[dem_splits > RACE_WINNER_THRESHOLD].count(axis=1)\n",
    "    dem_seat_share_percentage =  dem_seat_share / len(step[\"population\"])\n",
    "    dem_vote_share_percentage = dem_splits.mean(axis=1).mean()\n",
    "    rep_seat_share = rep_splits[rep_splits > RACE_WINNER_THRESHOLD].count(axis=1)\n",
    "    rep_seat_share_percentage =  rep_seat_share / len(step[\"population\"])\n",
    "    rep_vote_share_percentage = rep_splits.mean(axis=1).mean()\n",
    "\n",
    "    black_pop_box_data = pd.DataFrame(black_pop.describe().loc[[\"min\", \"25%\", \"50%\", \"mean\", \"75%\", \"max\"]])\n",
    "    asian_pop_box_data = pd.DataFrame(asian_pop.describe().loc[[\"min\", \"25%\", \"50%\", \"mean\", \"75%\", \"max\"]])\n",
    "    hispanic_pop_box_data = pd.DataFrame(hisp_pop.describe().loc[[\"min\", \"25%\", \"50%\", \"mean\", \"75%\", \"max\"]])\n",
    "    white_pop_box_data = pd.DataFrame(white_pop.describe().loc[[\"min\", \"25%\", \"50%\", \"mean\", \"75%\", \"max\"]])\n",
    "    total_pop_box_data = pd.DataFrame(total_pop.describe().loc[[\"min\", \"25%\", \"50%\", \"mean\", \"75%\", \"max\"]])\n",
    "    \n",
    "    all_data[link] = {\"polsby_popper_scores\": polsby_popper_scores, \"dem_splits\": dem_splits, \"rep_splits\": rep_splits,\n",
    "                      \"black_pop\": black_pop, \"asian_pop\": asian_pop, \"hispanic_pop\": hisp_pop, \"white_pop\": white_pop,\n",
    "                      \"total_pop\": total_pop, \"minority_pop\": minority_pop,\n",
    "                      \"opportunity_reps_count\": opportunity_reps_count,\n",
    "                      \"opportunity_reps\": opportunity_reps,\n",
    "                      \"equal_pop\": equal_pop, \"dem_vote_share_percentage\": dem_vote_share_percentage,\n",
    "                      \"dem_seat_share_percentage\": dem_seat_share_percentage, \"rep_vote_share_percentage\": rep_vote_share_percentage,\n",
    "                      \"rep_seat_share_percentage\": rep_seat_share_percentage, \"black_pop_box_data\": black_pop_box_data,\n",
    "                      \"asian_pop_box_data\": asian_pop_box_data, \"hispanic_pop_box_data\": hispanic_pop_box_data,\n",
    "                      \"white_pop_box_data\": white_pop_box_data, \"total_pop_box_data\": total_pop_box_data,\n",
    "                      }\n",
    "\n",
    "    print(sum(lst_opp_reps) / len(lst_opp_reps))\n",
    "\n",
    "equal_pop_measure = equal_pop.mean() / (sum(new_partition[\"population\"].values()) + sum(new_partition[\"population\"].values()) + sum(new_partition [\"population\"].values()))\n"
   ]
  },
  {
   "cell_type": "code",
   "execution_count": 507,
   "metadata": {},
   "outputs": [],
   "source": [
    "rep_splits.columns  = [i+1 for i in rep_splits.columns]\n",
    "dem_splits.columns = [i+1 for i in dem_splits.columns]"
   ]
  },
  {
   "cell_type": "markdown",
   "metadata": {},
   "source": [
    "# Polsby Popper Scores"
   ]
  },
  {
   "cell_type": "code",
   "execution_count": 508,
   "metadata": {},
   "outputs": [
    {
     "data": {
      "text/plain": [
       "1    0.22703\n",
       "dtype: float64"
      ]
     },
     "execution_count": 508,
     "metadata": {},
     "output_type": "execute_result"
    }
   ],
   "source": [
    "polsby_popper_scores\n",
    "polsby_popper_scores.mean()"
   ]
  },
  {
   "cell_type": "markdown",
   "metadata": {},
   "source": [
    "# Republican Party Splits"
   ]
  },
  {
   "cell_type": "code",
   "execution_count": 509,
   "metadata": {},
   "outputs": [
    {
     "data": {
      "text/plain": [
       "1    0.715526\n",
       "dtype: float64"
      ]
     },
     "execution_count": 509,
     "metadata": {},
     "output_type": "execute_result"
    }
   ],
   "source": [
    "rep_splits.mean()"
   ]
  },
  {
   "cell_type": "markdown",
   "metadata": {},
   "source": [
    "# Republican Safe Districts"
   ]
  },
  {
   "cell_type": "code",
   "execution_count": 510,
   "metadata": {},
   "outputs": [
    {
     "data": {
      "text/plain": [
       "1    1\n",
       "dtype: int64"
      ]
     },
     "execution_count": 510,
     "metadata": {},
     "output_type": "execute_result"
    }
   ],
   "source": [
    "rep_splits[rep_splits > SAFE_SEAT_THRESHOLD].count()"
   ]
  },
  {
   "cell_type": "markdown",
   "metadata": {},
   "source": [
    "# Democrat Party Splits"
   ]
  },
  {
   "cell_type": "code",
   "execution_count": 511,
   "metadata": {},
   "outputs": [
    {
     "data": {
      "text/plain": [
       "1    0.284474\n",
       "dtype: float64"
      ]
     },
     "execution_count": 511,
     "metadata": {},
     "output_type": "execute_result"
    }
   ],
   "source": [
    "dem_splits.mean()"
   ]
  },
  {
   "cell_type": "markdown",
   "metadata": {},
   "source": [
    "# Democrat Safe Districts"
   ]
  },
  {
   "cell_type": "code",
   "execution_count": 512,
   "metadata": {},
   "outputs": [
    {
     "data": {
      "text/plain": [
       "1    0\n",
       "dtype: int64"
      ]
     },
     "execution_count": 512,
     "metadata": {},
     "output_type": "execute_result"
    }
   ],
   "source": [
    "dem_splits[dem_splits > SAFE_SEAT_THRESHOLD].count()"
   ]
  },
  {
   "cell_type": "markdown",
   "metadata": {},
   "source": [
    "#  Majority-minority districts"
   ]
  },
  {
   "cell_type": "code",
   "execution_count": 513,
   "metadata": {},
   "outputs": [
    {
     "data": {
      "text/plain": [
       "1    0\n",
       "dtype: int64"
      ]
     },
     "execution_count": 513,
     "metadata": {},
     "output_type": "execute_result"
    }
   ],
   "source": [
    "minority_pop[minority_pop > MINORITY_POP_THRESHOLD * total_pop].count()"
   ]
  },
  {
   "cell_type": "markdown",
   "metadata": {},
   "source": [
    "# Vote Share Seat Share\n",
    "## Democrat"
   ]
  },
  {
   "cell_type": "code",
   "execution_count": 514,
   "metadata": {},
   "outputs": [
    {
     "data": {
      "text/plain": [
       "0.284474190226664"
      ]
     },
     "execution_count": 514,
     "metadata": {},
     "output_type": "execute_result"
    }
   ],
   "source": [
    "dem_vote_share_percentage"
   ]
  },
  {
   "cell_type": "markdown",
   "metadata": {},
   "source": [
    "## Republican"
   ]
  },
  {
   "cell_type": "code",
   "execution_count": 515,
   "metadata": {},
   "outputs": [
    {
     "data": {
      "text/plain": [
       "0.715525809773336"
      ]
     },
     "execution_count": 515,
     "metadata": {},
     "output_type": "execute_result"
    }
   ],
   "source": [
    "rep_vote_share_percentage"
   ]
  },
  {
   "cell_type": "code",
   "execution_count": 516,
   "metadata": {},
   "outputs": [
    {
     "data": {
      "image/png": "[encoded data removed]",
      "text/plain": [
       "<Figure size 640x480 with 2 Axes>"
      ]
     },
     "metadata": {},
     "output_type": "display_data"
    }
   ],
   "source": [
    "seat_data = {}\n",
    "rep_total_count = [0] * (TOTAL_DISTRICTS + 1)\n",
    "dem_total_count = [0] * (TOTAL_DISTRICTS + 1)\n",
    "\n",
    "# Remove all candidates that have 0 votes\n",
    "for link in master_dict:\n",
    "    new_election = []\n",
    "    for election in chain_dict[master_dict[link]]:\n",
    "        new_election.append({})\n",
    "        for district in election:\n",
    "            new_election[-1][district] = {}\n",
    "            for candidate in election[district]:\n",
    "                if election[district][candidate] != 0:\n",
    "                    new_election[-1][district][candidate] = election[district][candidate]\n",
    "            \n",
    "\n",
    "    for election in new_election:\n",
    "        for district in election:\n",
    "            # Remove half of the candidates\n",
    "            election[district] = dict(list(election[district].items())[:int(len(election[district])/2)])\n",
    "\n",
    "            # Sort districts by number of elements\n",
    "            election[district] = dict(sorted(election[district].items(), key=lambda item: item[1], reverse=True))\n",
    "    # Sort the districts by number of elements and re index them\n",
    "    new_election = sorted(new_election, key=lambda x: len(x[len(x)]), reverse=True)\n",
    "    for i in range(len(new_election)):\n",
    "        new_election[i] = dict(sorted(new_election[i].items(), key=lambda x: len(x[len(x)-1]), reverse=False))\n",
    "        new_election[i] = dict(enumerate(new_election[i].values(), start=1))\n",
    "    chain_dict[master_dict[link]] = new_election\n",
    "    \n",
    "    dem_seatshare = []\n",
    "    rep_seatshare = []\n",
    "    for election in new_election:\n",
    "        dem_dict = {}\n",
    "        rep_dict = {}\n",
    "        total_dem = 0\n",
    "        total_rep = 0\n",
    "        for district in election:\n",
    "            # Get the number of repubicans and democrats\n",
    "            num_dem = 0\n",
    "            num_rep = 0\n",
    "            for candidate in election[district]:\n",
    "                if candidate[0] == \"D\":\n",
    "                    num_dem += 1\n",
    "                else:\n",
    "                    num_rep += 1\n",
    "            total_dem += num_dem\n",
    "            total_rep += num_rep\n",
    "            dem_dict[district] = num_dem\n",
    "            rep_dict[district] = num_rep\n",
    "        dem_total_count[total_dem] = dem_total_count[total_dem] + 1\n",
    "        rep_total_count[total_rep] = rep_total_count[total_rep] + 1\n",
    "        dem_seatshare.append(dem_dict)\n",
    "        rep_seatshare.append(rep_dict)\n",
    "\n",
    "    df_dem = pd.DataFrame(dem_seatshare)\n",
    "    df_rep = pd.DataFrame(rep_seatshare)\n",
    "\n",
    "    # Group both boxplots together\n",
    "    fig, (ax1, ax2) = plt.subplots(1, 2)\n",
    "    ax1.yaxis.set_major_locator(MaxNLocator(integer=True))\n",
    "    ax2.yaxis.set_major_locator(MaxNLocator(integer=True))\n",
    "    \n",
    "    # Make y axis from 0 to 4 for both plots\n",
    "   \n",
    "    fig.suptitle(\"Seat Share for \" + link + \" Districts Plan\")\n",
    "    df_dem.boxplot(ax=ax1)\n",
    "    ax1.set_title(\"Democratic Seat Share\")\n",
    "    ax1.set_xlabel(\"Districts\")\n",
    "    ax1.set_ylabel(\"Number of Seats\")\n",
    "    df_rep.boxplot(ax=ax2)\n",
    "    ax2.set_title(\"Republican Seat Share\")\n",
    "    ax2.set_xlabel(\"Districts\")\n",
    "    ax2.set_ylabel(\"Number of Seats\")\n",
    "    # Add space between the two plots\n",
    "    fig.subplots_adjust(wspace=0.5)\n",
    "\n",
    "    seat_data[link] = [df_dem, df_rep]\n",
    "\n",
    "    plt.show()\n",
    "\n"
   ]
  },
  {
   "cell_type": "code",
   "execution_count": 517,
   "metadata": {},
   "outputs": [
    {
     "data": {
      "text/plain": [
       "{0: 0, 1: 0, 2: 0, 3: 0, 4: 1}"
      ]
     },
     "execution_count": 517,
     "metadata": {},
     "output_type": "execute_result"
    }
   ],
   "source": [
    "rep_total_count = {i: rep_total_count[i] for i in range(0, len(rep_total_count))}\n",
    "rep_total_count"
   ]
  },
  {
   "cell_type": "code",
   "execution_count": 518,
   "metadata": {},
   "outputs": [
    {
     "data": {
      "text/plain": [
       "{0: 1, 1: 0, 2: 0, 3: 0, 4: 0}"
      ]
     },
     "execution_count": 518,
     "metadata": {},
     "output_type": "execute_result"
    }
   ],
   "source": [
    "dem_total_count = {i: dem_total_count[i] for i in range(0, len(dem_total_count))}\n",
    "dem_total_count"
   ]
  },
  {
   "cell_type": "markdown",
   "metadata": {},
   "source": [
    "# Export"
   ]
  },
  {
   "cell_type": "code",
   "execution_count": 519,
   "metadata": {},
   "outputs": [],
   "source": [
    "for reason in unique_plans:\n",
    "    plan = unique_plans[reason]\n",
    "    new_election = []\n",
    "    new_election.append({})\n",
    "\n",
    "    for district in plan[1]:\n",
    "        new_election[-1][district] = {}\n",
    "        for candidate in plan[1][district]:\n",
    "            if plan[1][district][candidate] != 0:\n",
    "                new_election[-1][district][candidate] = plan[1][district][candidate]\n",
    "\n",
    "    for election in new_election:\n",
    "        for district in election:\n",
    "            # Remove half of the candidates\n",
    "            election[district] = dict(list(election[district].items())[:int(len(election[district])/2)])\n",
    "\n",
    "            # Sort districts by number of elements\n",
    "            election[district] = dict(sorted(election[district].items(), key=lambda item: item[1], reverse=True))\n",
    "    new_election = sorted(new_election, key=lambda x: len(x[len(x)]), reverse=True)\n",
    "    for i in range(len(new_election)):\n",
    "        new_election[i] = dict(sorted(new_election[i].items(), key=lambda x: len(x[len(x)-1]), reverse=False))\n",
    "        new_election[i] = dict(enumerate(new_election[i].values(), start=1))\n",
    "    chain_dict[master_dict[link]] = new_election\n",
    "    \n",
    "    dem_seatshare = []\n",
    "    rep_seatshare = []\n",
    "    for election in new_election:\n",
    "        dem_dict = {}\n",
    "        rep_dict = {}\n",
    "        total_dem = 0\n",
    "        total_rep = 0\n",
    "        for district in election:\n",
    "            num_dem = 0\n",
    "            num_rep = 0\n",
    "            for candidate in election[district]:\n",
    "                if candidate[0] == \"D\":\n",
    "                    num_dem += 1\n",
    "                else:\n",
    "                    num_rep += 1\n",
    "            total_dem += num_dem\n",
    "            total_rep += num_rep\n",
    "            dem_dict[district] = num_dem\n",
    "            rep_dict[district] = num_rep\n",
    "        dem_total_count[total_dem] = dem_total_count[total_dem] + 1\n",
    "        rep_total_count[total_rep] = rep_total_count[total_rep] + 1\n",
    "        dem_seatshare.append(dem_dict)\n",
    "        rep_seatshare.append(rep_dict)\n",
    "\n",
    "    rep_dict = {\"Reps\": []}\n",
    "    for rep in dem_seatshare:\n",
    "        for district in rep:\n",
    "            rep_arr = []\n",
    "            for i in range(rep[district]):\n",
    "                rep_arr.append(\"D\")\n",
    "            rep_dict[\"Reps\"].append(rep_arr)\n",
    "\n",
    "    for rep in rep_seatshare:\n",
    "        for district in rep:\n",
    "            rep_arr = rep_dict[\"Reps\"][district-1]\n",
    "            for i in range(rep[district]):\n",
    "                rep_arr.append(\"R\")\n",
    "\n",
    "    # Convert each list to a string\n",
    "    for i in range(len(rep_dict[\"Reps\"])):\n",
    "        rep_dict[\"Reps\"][i] = \"\".join(rep_dict[\"Reps\"][i])\n",
    "\n",
    "\n",
    "\n",
    "    gdf = gpd.GeoDataFrame({\"assignment\": plan[0].assignment.to_series()}, geometry=plan[0].graph.geometry)\n",
    "    district_shapes = gdf.dissolve(by='assignment', aggfunc='sum') # Combine the precincts to form districts\n",
    "    district_shapes = district_shapes.to_crs(epsg=\"4326\")\n",
    "    tst = pd.DataFrame(rep_dict)\n",
    "    tst.index = tst.index + 1\n",
    "\n",
    "    district_shapes = district_shapes.join(tst)\n",
    "\n",
    "    district_shapes[\"Dem\"] = district_shapes[\"Reps\"].str.count(\"D\") / district_shapes[\"Reps\"].str.len()\n",
    "    district_shapes[\"Rep\"] = district_shapes[\"Reps\"].str.count(\"R\") / district_shapes[\"Reps\"].str.len()\n",
    "\n",
    "    district_shapes.to_file(f\"{EXPORT_PATH}/unique plans/{reason} MMD.geojson\", driver='GeoJSON', encoding='utf-8')\n"
   ]
  },
  {
   "cell_type": "code",
   "execution_count": 520,
   "metadata": {},
   "outputs": [],
   "source": [
    "\n",
    "import json\n",
    "\n",
    "unique_plan_data = {}\n",
    "\n",
    "for reason in unique_plans:\n",
    "    plan = unique_plans[reason]\n",
    "    blk = pd.Series(plan[0][\"black\"])\n",
    "    asn = pd.Series(plan[0][\"asian\"])\n",
    "    hsp = pd.Series(plan[0][\"hisp\"])\n",
    "    wt = pd.Series(plan[0][\"white\"])\n",
    "    tot = pd.Series(plan[0][\"population\"])\n",
    "    minority_population = blk + asn + hsp\n",
    "    minority_pop_percentage = minority_population / tot\n",
    "    \n",
    "    dem = pd.Series(plan[0][\"CongressionalRace\"].percents(\"Democratic\"))\n",
    "    rep = pd.Series(plan[0][\"CongressionalRace\"].percents(\"Republican\"))\n",
    "    \n",
    "    safe_districts = dem[dem > SAFE_SEAT_THRESHOLD].count() + rep[rep > SAFE_SEAT_THRESHOLD].count()\n",
    "    opportunit_reps = minority_population[minority_population > MINORITY_POP_THRESHOLD * tot].count()\n",
    "    pp_scores = pd.Series(polsby_popper(unique_plans[reason][0]))\n",
    "    \n",
    "    unique_plan_data[reason] = {\n",
    "        \"blk_pop\": blk.to_dict(),\n",
    "        \"asn_pop\": asn.to_dict(),\n",
    "        \"hsp_pop\": hsp.to_dict(),\n",
    "        \"wt_pop\": wt.to_dict(),\n",
    "        \"tot_pop\": tot.to_dict(),\n",
    "        \"minority_pop\": minority_population.to_dict(),\n",
    "        \"dem_split\": dem.to_dict(),\n",
    "        \"rep_split\": rep.to_dict(),\n",
    "        \"safe_districts\": int(safe_districts),\n",
    "        \"opportunity_reps\": int(opportunit_reps),\n",
    "        \"polsby_popper_scores\": pp_scores.to_dict()\n",
    "    }    \n"
   ]
  },
  {
   "cell_type": "code",
   "execution_count": 521,
   "metadata": {},
   "outputs": [],
   "source": [
    "data = {}\n",
    "temp = {}\n",
    "\n",
    "for chain in all_data:\n",
    "    temp[chain] = {}\n",
    "\n",
    "for chain in all_data:\n",
    "    all_data[chain][\"polsby_popper_scores\"] = all_data[chain][\"polsby_popper_scores\"].mean().to_dict()\n",
    "    all_data[chain][\"rep_splits\"] = all_data[chain][\"rep_splits\"].mean().to_dict()\n",
    "    all_data[chain][\"dem_splits\"] = all_data[chain][\"dem_splits\"].mean().to_dict()\n",
    "    all_data[chain][\"black_pop\"] = all_data[chain][\"black_pop\"].mean().to_dict()\n",
    "    all_data[chain][\"asian_pop\"] = all_data[chain][\"asian_pop\"].mean().to_dict()\n",
    "    all_data[chain][\"hispanic_pop\"] = all_data[chain][\"hispanic_pop\"].mean().to_dict()\n",
    "    all_data[chain][\"white_pop\"] = all_data[chain][\"white_pop\"].mean().to_dict()\n",
    "    all_data[chain][\"total_pop\"] = all_data[chain][\"total_pop\"].mean().to_dict()\n",
    "    all_data[chain][\"minority_pop\"] = all_data[chain][\"minority_pop\"].mean().to_dict()\n",
    "    all_data[chain][\"opportunity_reps_count\"] = float(all_data[chain][\"opportunity_reps_count\"].mean())\n",
    "    all_data[chain][\"equal_pop\"] = all_data[chain][\"equal_pop\"].mean().to_dict()\n",
    "    all_data[chain][\"dem_seat_share_percentage\"] = all_data[chain][\"dem_seat_share_percentage\"].mean()\n",
    "    all_data[chain][\"dem_vote_share_percentage\"] = all_data[chain][\"dem_vote_share_percentage\"].mean()\n",
    "    all_data[chain][\"rep_seat_share_percentage\"] = all_data[chain][\"rep_seat_share_percentage\"].mean()\n",
    "    all_data[chain][\"rep_vote_share_percentage\"] = all_data[chain][\"rep_vote_share_percentage\"].mean()\n",
    "    all_data[chain][\"black_pop_box_data\"] = all_data[chain][\"black_pop_box_data\"].to_dict()\n",
    "    all_data[chain][\"asian_pop_box_data\"] = all_data[chain][\"asian_pop_box_data\"].to_dict()\n",
    "    all_data[chain][\"hispanic_pop_box_data\"] = all_data[chain][\"hispanic_pop_box_data\"].to_dict()\n",
    "    all_data[chain][\"white_pop_box_data\"] = all_data[chain][\"white_pop_box_data\"].to_dict()\n",
    "    all_data[chain][\"total_pop_box_data\"] = all_data[chain][\"total_pop_box_data\"].to_dict()\n",
    "    all_data[chain][\"opportunity_reps\"] = all_data[chain][\"opportunity_reps\"].sum(axis=1).to_dict()\n",
    "    temp[chain]= {\n",
    "        \"opportunity_reps\": all_data[chain][\"opportunity_reps\"],\n",
    "    }\n",
    "\n",
    "    for frame in seat_data:\n",
    "        all_data[chain][frame + \"_dem_seats\"] = seat_data[frame][0].to_dict()\n",
    "        all_data[chain][frame + \"_rep_seats\"] = seat_data[frame][1].to_dict()\n",
    "all_data[\"unique_plans_data\"] = unique_plan_data\n",
    "all_data[\"bar_data\"] = {\n",
    "    \"opportunity_reps\": temp,\n",
    "    \"rep_total_count\": rep_total_count,\n",
    "    \"dem_total_count\": dem_total_count,\n",
    "}\n",
    "# all_data.pop(\"opportunity_reps\")\n",
    "\n",
    "data[\"all_data\"] = all_data\n"
   ]
  },
  {
   "cell_type": "code",
   "execution_count": 522,
   "metadata": {},
   "outputs": [],
   "source": [
    "import json \n",
    "\n",
    "with open('ut_data.json', 'w') as outfile:\n",
    "    json.dump(data, outfile)"
   ]
  }
 ],
 "metadata": {
  "kernelspec": {
   "display_name": "Python 3.10.2 ('mggg': venv)",
   "language": "python",
   "name": "python3"
  },
  "language_info": {
   "codemirror_mode": {
    "name": "ipython",
    "version": 3
   },
   "file_extension": ".py",
   "mimetype": "text/x-python",
   "name": "python",
   "nbconvert_exporter": "python",
   "pygments_lexer": "ipython3",
   "version": "3.10.2"
  },
  "orig_nbformat": 4,
  "vscode": {
   "interpreter": {
    "hash": "1297887dbe05e3392e74aebac8f366b1c57e7491e40b1847c769a9c3d98527ef"
   }
  }
 },
 "nbformat": 4,
 "nbformat_minor": 2
}
