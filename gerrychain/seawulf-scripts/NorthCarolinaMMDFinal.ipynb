{
 "cells": [
  {
   "cell_type": "code",
   "execution_count": 1,
   "metadata": {},
   "outputs": [],
   "source": [
    "import pandas as pd\n",
    "import geopandas as gpd\n",
    "import matplotlib.pyplot as plt\n",
    "from matplotlib.ticker import MaxNLocator\n",
    "from gerrychain import Graph, GeographicPartition, Election, MarkovChain, tree, constraints\n",
    "from functools import partial\n",
    "from gerrychain.updaters import Tally, cut_edges\n",
    "from gerrychain.metrics import polsby_popper\n",
    "from gerrychain.proposals import recom\n",
    "import os\n",
    "from gerrychain.accept import always_accept\n",
    "\n",
    "from candidate import Candidate"
   ]
  },
  {
   "cell_type": "code",
   "execution_count": 2,
   "metadata": {},
   "outputs": [],
   "source": [
    "PROCESSED_SHAPEFILE_PATH = os.path.join(os.getcwd())\n",
    "NC_PATH = os.path.join(PROCESSED_SHAPEFILE_PATH, \"north carolina\", \"precinct_level_w_election.shp\")\n",
    "EXPORT_PATH = os.path.join(PROCESSED_SHAPEFILE_PATH, \"north carolina\")\n",
    "ITERATIONS = 3333\n",
    "SAFE_SEAT_THRESHOLD = 0.66\n",
    "MINORITY_POP_THRESHOLD = RACE_WINNER_THRESHOLD = 0.5\n",
    "TOTAL_DISTRICTS = 13\n",
    "FOUR_FOUR_FIVE = 3.25\n",
    "FIVE_FIVE_THREE = 2.6\n",
    "THRE_THREE_THREE_FOUR = 4.33"
   ]
  },
  {
   "cell_type": "code",
   "execution_count": 3,
   "metadata": {},
   "outputs": [
    {
     "name": "stderr",
     "output_type": "stream",
     "text": [
      "/Users/alexisperezmendoza/Desktop/python-mggg/mggg/lib/python3.10/site-packages/gerrychain/graph/adjacency.py:21: ShapelyDeprecationWarning: Setting custom attributes on geometry objects is deprecated, and will raise an AttributeError in Shapely 2.0\n",
      "  geometries[i].id = i\n",
      "/Users/alexisperezmendoza/Desktop/python-mggg/mggg/lib/python3.10/site-packages/gerrychain/graph/adjacency.py:23: ShapelyDeprecationWarning: STRtree will be changed in 2.0.0 and will not be compatible with versions < 2.\n",
      "  tree = STRtree(geometries)\n"
     ]
    }
   ],
   "source": [
    "nc_graph = Graph.from_file(NC_PATH, ignore_errors=True)"
   ]
  },
  {
   "cell_type": "code",
   "execution_count": 4,
   "metadata": {},
   "outputs": [],
   "source": [
    "total_population = sum(nc_graph.nodes[node][\"TOTPOP\"] for node in nc_graph.nodes)\n",
    "\n",
    "candidate_D1 = Candidate(\"Democrat1\", \"Democratic\")\n",
    "candidate_D2 = Candidate(\"Democrat2\", \"Democratic\")\n",
    "candidate_D3 = Candidate(\"Democrat3\", \"Democratic\")\n",
    "candidate_D4 = Candidate(\"Democrat4\", \"Democratic\")\n",
    "candidate_D5 = Candidate(\"Democrat5\", \"Democratic\")\n",
    "candidate_R1 = Candidate(\"Republican1\", \"Republican\")\n",
    "candidate_R2 = Candidate(\"Republican2\", \"Republican\")\n",
    "candidate_R3 = Candidate(\"Republican3\", \"Republican\")\n",
    "candidate_R4 = Candidate(\"Republican4\", \"Republican\")\n",
    "candidate_R5 = Candidate(\"Republican5\", \"Republican\")"
   ]
  },
  {
   "cell_type": "code",
   "execution_count": 5,
   "metadata": {},
   "outputs": [],
   "source": [
    "partition_445 = tree.recursive_tree_part(nc_graph, [1, 2, 3], total_population / FOUR_FOUR_FIVE, \"TOTPOP\", 0.01, 1)\n",
    "partition_553 = tree.recursive_tree_part(nc_graph, [1, 2, 3], total_population / FIVE_FIVE_THREE, \"TOTPOP\", 0.01, 1)\n",
    "partition_3334 = tree.recursive_tree_part(nc_graph, [1, 2 ,3, 4], total_population /THRE_THREE_THREE_FOUR, \"TOTPOP\", 0.01, 1)\n",
    "\n",
    "nc_election = Election(\"CongressionalRace\" , {\"Democratic\": \"D_VOTES\", \"Republican\": \"R_VOTES\"})"
   ]
  },
  {
   "cell_type": "code",
   "execution_count": 6,
   "metadata": {},
   "outputs": [],
   "source": [
    "\n",
    "# Create a new partition with the election results\n",
    "new_partition445 = GeographicPartition(nc_graph, assignment=partition_445, updaters={\n",
    "        \"population\": Tally(\"TOTPOP\", alias=\"population\"),\n",
    "        \"white\": Tally(\"NH_WHITE\", alias=\"white\"),\n",
    "        \"black\": Tally(\"NH_BLACK\", alias=\"black\"),\n",
    "        \"asian\": Tally(\"NH_ASIAN\", alias=\"asian\"),\n",
    "        \"hisp\": Tally(\"HISP\", alias=\"hisp\"),\n",
    "        \"other\": Tally(\"NH_OTHER\", alias=\"other\"),\n",
    "        \"cut_edges\": cut_edges,\n",
    "        \"CongressionalRace\": nc_election\n",
    "    })\n",
    "new_partition553 = GeographicPartition(nc_graph, assignment=partition_553, updaters={\n",
    "        \"population\": Tally(\"TOTPOP\", alias=\"population\"),\n",
    "        \"white\": Tally(\"NH_WHITE\", alias=\"white\"),\n",
    "        \"black\": Tally(\"NH_BLACK\", alias=\"black\"),\n",
    "        \"asian\": Tally(\"NH_ASIAN\", alias=\"asian\"),\n",
    "        \"hisp\": Tally(\"HISP\", alias=\"hisp\"),\n",
    "        \"other\": Tally(\"NH_OTHER\", alias=\"other\"),\n",
    "        \"cut_edges\": cut_edges,\n",
    "        \"CongressionalRace\": nc_election\n",
    "    })\n",
    "\n",
    "new_partition3334 = GeographicPartition(nc_graph, assignment=partition_3334, updaters={\n",
    "        \"population\": Tally(\"TOTPOP\", alias=\"population\"),\n",
    "        \"white\": Tally(\"NH_WHITE\", alias=\"white\"),\n",
    "        \"black\": Tally(\"NH_BLACK\", alias=\"black\"),\n",
    "        \"asian\": Tally(\"NH_ASIAN\", alias=\"asian\"),\n",
    "        \"hisp\": Tally(\"HISP\", alias=\"hisp\"),\n",
    "        \"other\": Tally(\"NH_OTHER\", alias=\"other\"),\n",
    "        \"cut_edges\": cut_edges,\n",
    "        \"CongressionalRace\": nc_election\n",
    "    })"
   ]
  },
  {
   "cell_type": "code",
   "execution_count": 7,
   "metadata": {},
   "outputs": [],
   "source": [
    "ideal_pop445 = total_population / FOUR_FOUR_FIVE\n",
    "proposal445 = partial(recom, pop_col=\"TOTPOP\", pop_target=ideal_pop445, epsilon=.02, node_repeats=2)\n",
    "compactness445 = constraints.UpperBound(\n",
    "    lambda p: len(p[\"cut_edges\"]),\n",
    "    2*len(new_partition445[\"cut_edges\"])\n",
    ")\n",
    "pop_constraint445 = constraints.within_percent_of_ideal_population(new_partition445, 0.3)\n",
    "\n",
    "ideal_pop553 = total_population / FIVE_FIVE_THREE\n",
    "proposal553 = partial(recom, pop_col=\"TOTPOP\", pop_target=ideal_pop553, epsilon=.02, node_repeats=2)\n",
    "compactness553 = constraints.UpperBound(\n",
    "    lambda p: len(p[\"cut_edges\"]),\n",
    "    2*len(new_partition553[\"cut_edges\"])\n",
    ")\n",
    "pop_constraint553 = constraints.within_percent_of_ideal_population(new_partition553, 0.4)\n",
    "\n",
    "ideal_pop3334 = total_population / THRE_THREE_THREE_FOUR\n",
    "proposal3334 = partial(recom, pop_col=\"TOTPOP\", pop_target=ideal_pop3334, epsilon=.02, node_repeats=2)\n",
    "compactness3334 = constraints.UpperBound(\n",
    "    lambda p: len(p[\"cut_edges\"]),\n",
    "    2*len(new_partition3334[\"cut_edges\"])\n",
    ")\n",
    "pop_constraint3334 = constraints.within_percent_of_ideal_population(new_partition3334, 0.3)\n",
    "\n"
   ]
  },
  {
   "cell_type": "code",
   "execution_count": 8,
   "metadata": {},
   "outputs": [],
   "source": [
    "# Print the population of each district\n",
    "chain445 = MarkovChain(\n",
    "    proposal=proposal445,\n",
    "    constraints=[\n",
    "        compactness445,\n",
    "        pop_constraint445\n",
    "    ],\n",
    "    accept=always_accept,\n",
    "    initial_state=new_partition445,\n",
    "    total_steps=ITERATIONS\n",
    ")\n",
    "\n",
    "chain553 = MarkovChain(\n",
    "    proposal=proposal553,\n",
    "    constraints=[\n",
    "        compactness553,\n",
    "        pop_constraint553\n",
    "    ],\n",
    "    accept=always_accept,\n",
    "    initial_state=new_partition553,\n",
    "    total_steps=ITERATIONS\n",
    ")\n",
    "\n",
    "chain3334 = MarkovChain(\n",
    "    proposal=proposal3334,\n",
    "    constraints=[\n",
    "        compactness3334,\n",
    "        pop_constraint3334\n",
    "    ],\n",
    "    accept=always_accept,\n",
    "    initial_state=new_partition3334,\n",
    "    total_steps=ITERATIONS\n",
    ")\n"
   ]
  },
  {
   "cell_type": "code",
   "execution_count": 9,
   "metadata": {},
   "outputs": [
    {
     "name": "stdout",
     "output_type": "stream",
     "text": [
      "OPPORTUNITY_REP_COUNT: 3\n"
     ]
    },
    {
     "data": {
      "text/plain": [
       "'Number of unique plans: 4'"
      ]
     },
     "metadata": {},
     "output_type": "display_data"
    }
   ],
   "source": [
    "import warnings\n",
    "warnings.filterwarnings('ignore')\n",
    "\n",
    "polsby_popper_scores = pd.DataFrame()\n",
    "dem_splits = pd.DataFrame()\n",
    "rep_splits = pd.DataFrame()\n",
    "black_pop = pd.DataFrame()\n",
    "asian_pop = pd.DataFrame()\n",
    "hisp_pop = pd.DataFrame()\n",
    "white_pop = pd.DataFrame()\n",
    "total_pop = pd.DataFrame()\n",
    "equal_pop = pd.DataFrame()\n",
    "\n",
    "\n",
    "unique_plans = {}\n",
    "OPPORTUNITY_REP_COUNT = int(TOTAL_DISTRICTS * 0.25)\n",
    "print(f\"OPPORTUNITY_REP_COUNT: {OPPORTUNITY_REP_COUNT}\")\n",
    "\n",
    "master_dict = {\"chain445\": chain445, \"chain355\": chain553, \"chain3334\": chain3334}\n",
    "dem_candidates = [candidate_D1, candidate_D2, candidate_D3, candidate_D4, candidate_D5]\n",
    "rep_candidates = [candidate_R1, candidate_R2, candidate_R3, candidate_R4, candidate_R5]\n",
    "\n",
    "chain_dict = {}\n",
    "for link in master_dict:\n",
    "    all_elections = []\n",
    "    for step in master_dict[link]:\n",
    "        blk = pd.Series(step[\"black\"])\n",
    "        asn = pd.Series(step[\"asian\"])\n",
    "        hsp = pd.Series(step[\"hisp\"])\n",
    "        wt = pd.Series(step[\"white\"])\n",
    "        tot = pd.Series(step[\"population\"])\n",
    "\n",
    "        polsby_popper_scores = polsby_popper_scores.append(pd.Series(polsby_popper(step)), ignore_index=True)\n",
    "        black_pop = black_pop.append(pd.Series(step[\"black\"]), ignore_index=True)\n",
    "        asian_pop = asian_pop.append(pd.Series(step[\"asian\"]), ignore_index=True)\n",
    "        hisp_pop = hisp_pop.append(pd.Series(step[\"hisp\"]), ignore_index=True)\n",
    "        white_pop = white_pop.append(pd.Series(step[\"white\"]), ignore_index=True)\n",
    "        total_pop = total_pop.append(pd.Series(step[\"population\"]), ignore_index=True)\n",
    "        \n",
    "        equal_pop = equal_pop.append(pd.Series(max(step[\"population\"].values()) - min(step[\"population\"].values())), ignore_index=True)\n",
    "        dem_splits = dem_splits.append(pd.Series(step[\"CongressionalRace\"].percents(\"Democratic\")), ignore_index=True)\n",
    "        rep_splits = rep_splits.append(pd.Series(step[\"CongressionalRace\"].percents(\"Republican\")), ignore_index=True)\n",
    "\n",
    "\n",
    "        minority_pop = blk + asn + hsp\n",
    "        minority_pop_percentage = minority_pop / tot\n",
    "    \n",
    "        \n",
    "\n",
    "\n",
    "        election = {}\n",
    "        for district in step[\"population\"]:\n",
    "\n",
    "            dem = pd.Series(step[\"CongressionalRace\"].percents(\"Democratic\")[district-1])\n",
    "            rep = pd.Series(step[\"CongressionalRace\"].percents(\"Republican\")[district-1])\n",
    "            dem_seat_share_percentage = dem[dem > 0.5].count() / TOTAL_DISTRICTS\n",
    "            dem_vote_share_percentage = dem.mean()\n",
    "\n",
    "\n",
    "                \n",
    "            if \"high opportunity rep count\" not in unique_plans:    \n",
    "                if minority_pop_percentage[minority_pop_percentage > 0.3].count().sum() >= OPPORTUNITY_REP_COUNT:\n",
    "                    unique_plans[\"high opportunity rep count\"] = step\n",
    "                \n",
    "            if \"high dem vote share skew\" not in unique_plans:\n",
    "                if abs(dem_seat_share_percentage - dem_vote_share_percentage) > 0.15:\n",
    "                    unique_plans[\"high vote seat share skew\"] = step\n",
    "\n",
    "            if \"democrat split > .6\" not in unique_plans:\n",
    "                if dem.max() > 0.6:\n",
    "                    unique_plans[\"democrat split > .6\"] = step\n",
    "            \n",
    "            if \"republican split > .6\" not in unique_plans:\n",
    "                if rep.max() > 0.6:\n",
    "                    unique_plans[\"republican split > .6\"] = step\n",
    "\n",
    "            top_candidates = {} # Key = name of candidate, Value = number of votes\n",
    "            for cand in dem_candidates:\n",
    "                top_candidates[cand.get_name()] = 0\n",
    "            for cand in rep_candidates:\n",
    "                top_candidates[cand.get_name()] = 0\n",
    "            total_reps = round((step[\"population\"][district] / total_population) * TOTAL_DISTRICTS)\n",
    "            dem_votes = step[\"CongressionalRace\"].votes(\"Democratic\")[district-1]\n",
    "            rep_votes = step[\"CongressionalRace\"].votes(\"Republican\")[district-1]\n",
    "            weight = 1\n",
    "            for cand in range(total_reps):\n",
    "                top_candidates[rep_candidates[cand].get_name()] += (weight * rep_votes)\n",
    "                top_candidates[dem_candidates[cand].get_name()] += (weight * dem_votes)\n",
    "                weight -= .05\n",
    "            election[district] = top_candidates\n",
    "            \n",
    "            for part in election:\n",
    "                election[part] = dict(sorted(election[part].items(), key=lambda item: item[1], reverse=True))\n",
    "        all_elections.append(election)\n",
    "    chain_dict[master_dict[link]] = all_elections\n",
    "        \n",
    "display(f\"Number of unique plans: {len(unique_plans)}\")\n",
    "\n",
    "rep_safe_districts = rep_splits[rep_splits > SAFE_SEAT_THRESHOLD].count(axis=1)\n",
    "dem_safe_districts = dem_splits[dem_splits > SAFE_SEAT_THRESHOLD].count(axis=1)\n",
    "minority_pop = black_pop + asian_pop + hisp_pop\n",
    "opportunity_reps = minority_pop[minority_pop > MINORITY_POP_THRESHOLD * total_pop].count()\n",
    "dem_seat_share = dem_splits[dem_splits > RACE_WINNER_THRESHOLD].count(axis=1)\n",
    "dem_seat_share_percentage =  dem_seat_share / TOTAL_DISTRICTS\n",
    "dem_vote_share_percentage = dem_splits.mean(axis=1).mean()\n",
    "rep_seat_share = rep_splits[rep_splits > RACE_WINNER_THRESHOLD].count(axis=1)\n",
    "rep_seat_share_percentage =  rep_seat_share / TOTAL_DISTRICTS\n",
    "rep_vote_share_percentage = rep_splits.mean(axis=1).mean()\n",
    "\n",
    "equal_pop_measure = equal_pop.mean() / (sum(new_partition445[\"population\"].values()) + sum(new_partition553[\"population\"].values()) + sum(new_partition3334[\"population\"].values()))\n"
   ]
  },
  {
   "cell_type": "code",
   "execution_count": 10,
   "metadata": {},
   "outputs": [
    {
     "name": "stdout",
     "output_type": "stream",
     "text": [
      "{'high vote seat share skew': <GeographicPartition [4 parts]>, 'democrat split > .6': <GeographicPartition [3 parts]>, 'republican split > .6': <GeographicPartition [3 parts]>, 'high opportunity rep count': <GeographicPartition [3 parts]>}\n"
     ]
    }
   ],
   "source": [
    "print(unique_plans)"
   ]
  },
  {
   "cell_type": "code",
   "execution_count": 11,
   "metadata": {},
   "outputs": [],
   "source": [
    "rep_splits.columns  = [i+1 for i in rep_splits.columns]\n",
    "dem_splits.columns = [i+1 for i in dem_splits.columns]"
   ]
  },
  {
   "cell_type": "markdown",
   "metadata": {},
   "source": [
    "# Polsby Popper Scores"
   ]
  },
  {
   "cell_type": "code",
   "execution_count": 12,
   "metadata": {},
   "outputs": [
    {
     "data": {
      "text/plain": [
       "1    0.217156\n",
       "2    0.214775\n",
       "3    0.218341\n",
       "4    0.202015\n",
       "dtype: float64"
      ]
     },
     "execution_count": 12,
     "metadata": {},
     "output_type": "execute_result"
    }
   ],
   "source": [
    "polsby_popper_scores\n",
    "polsby_popper_scores.mean()"
   ]
  },
  {
   "cell_type": "markdown",
   "metadata": {},
   "source": [
    "# Republican Party Splits"
   ]
  },
  {
   "cell_type": "code",
   "execution_count": 13,
   "metadata": {},
   "outputs": [
    {
     "data": {
      "text/plain": [
       "1    0.500248\n",
       "2    0.499617\n",
       "3    0.497421\n",
       "4    0.499796\n",
       "dtype: float64"
      ]
     },
     "execution_count": 13,
     "metadata": {},
     "output_type": "execute_result"
    }
   ],
   "source": [
    "rep_splits.mean()"
   ]
  },
  {
   "cell_type": "markdown",
   "metadata": {},
   "source": [
    "# Republican Safe Districts"
   ]
  },
  {
   "cell_type": "code",
   "execution_count": 14,
   "metadata": {},
   "outputs": [
    {
     "data": {
      "text/plain": [
       "1    0\n",
       "2    0\n",
       "3    0\n",
       "4    0\n",
       "dtype: int64"
      ]
     },
     "execution_count": 14,
     "metadata": {},
     "output_type": "execute_result"
    }
   ],
   "source": [
    "rep_splits[rep_splits > SAFE_SEAT_THRESHOLD].count()"
   ]
  },
  {
   "cell_type": "markdown",
   "metadata": {},
   "source": [
    "# Democrat Party Splits"
   ]
  },
  {
   "cell_type": "code",
   "execution_count": 15,
   "metadata": {},
   "outputs": [
    {
     "data": {
      "text/plain": [
       "1    0.499752\n",
       "2    0.500383\n",
       "3    0.502579\n",
       "4    0.500204\n",
       "dtype: float64"
      ]
     },
     "execution_count": 15,
     "metadata": {},
     "output_type": "execute_result"
    }
   ],
   "source": [
    "dem_splits.mean()"
   ]
  },
  {
   "cell_type": "markdown",
   "metadata": {},
   "source": [
    "# Democrat Safe Districts"
   ]
  },
  {
   "cell_type": "code",
   "execution_count": 16,
   "metadata": {},
   "outputs": [
    {
     "data": {
      "text/plain": [
       "1    0\n",
       "2    0\n",
       "3    0\n",
       "4    0\n",
       "dtype: int64"
      ]
     },
     "execution_count": 16,
     "metadata": {},
     "output_type": "execute_result"
    }
   ],
   "source": [
    "dem_splits[dem_splits > SAFE_SEAT_THRESHOLD].count()"
   ]
  },
  {
   "cell_type": "markdown",
   "metadata": {},
   "source": [
    "#  Majority-minority districts"
   ]
  },
  {
   "cell_type": "code",
   "execution_count": 17,
   "metadata": {},
   "outputs": [
    {
     "data": {
      "text/plain": [
       "1    0\n",
       "2    0\n",
       "3    0\n",
       "4    0\n",
       "dtype: int64"
      ]
     },
     "execution_count": 17,
     "metadata": {},
     "output_type": "execute_result"
    }
   ],
   "source": [
    "minority_pop[minority_pop > MINORITY_POP_THRESHOLD * total_pop].count()"
   ]
  },
  {
   "cell_type": "markdown",
   "metadata": {},
   "source": [
    "# Vote Share Seat Share\n",
    "## Democrat"
   ]
  },
  {
   "cell_type": "code",
   "execution_count": 18,
   "metadata": {},
   "outputs": [
    {
     "data": {
      "text/plain": [
       "0.5008912656904332"
      ]
     },
     "execution_count": 18,
     "metadata": {},
     "output_type": "execute_result"
    }
   ],
   "source": [
    "dem_vote_share_percentage"
   ]
  },
  {
   "cell_type": "markdown",
   "metadata": {},
   "source": [
    "## Republican"
   ]
  },
  {
   "cell_type": "code",
   "execution_count": 19,
   "metadata": {},
   "outputs": [
    {
     "data": {
      "text/plain": [
       "0.4991087343095668"
      ]
     },
     "execution_count": 19,
     "metadata": {},
     "output_type": "execute_result"
    }
   ],
   "source": [
    "rep_vote_share_percentage"
   ]
  },
  {
   "cell_type": "markdown",
   "metadata": {},
   "source": [
    "\n",
    "# Box & Whisker for Population\n"
   ]
  },
  {
   "cell_type": "code",
   "execution_count": 20,
   "metadata": {},
   "outputs": [],
   "source": [
    "black_pop_box_data = pd.DataFrame(black_pop.describe().loc[[\"min\", \"25%\", \"50%\", \"mean\", \"75%\", \"max\"]])\n",
    "asian_pop_box_data = pd.DataFrame(asian_pop.describe().loc[[\"min\", \"25%\", \"50%\", \"mean\", \"75%\", \"max\"]])\n",
    "hispanic_pop_box_data = pd.DataFrame(hisp_pop.describe().loc[[\"min\", \"25%\", \"50%\", \"mean\", \"75%\", \"max\"]])\n",
    "white_pop_box_data = pd.DataFrame(white_pop.describe().loc[[\"min\", \"25%\", \"50%\", \"mean\", \"75%\", \"max\"]])\n",
    "total_pop_box_data = pd.DataFrame(total_pop.describe().loc[[\"min\", \"25%\", \"50%\", \"mean\", \"75%\", \"max\"]])\n"
   ]
  },
  {
   "cell_type": "code",
   "execution_count": 21,
   "metadata": {},
   "outputs": [
    {
     "data": {
      "image/png": "[encoded data removed]",
      "text/plain": [
       "<Figure size 640x480 with 2 Axes>"
      ]
     },
     "metadata": {},
     "output_type": "display_data"
    },
    {
     "data": {
      "image/png": "[encoded data removed]",
      "text/plain": [
       "<Figure size 640x480 with 2 Axes>"
      ]
     },
     "metadata": {},
     "output_type": "display_data"
    },
    {
     "data": {
      "image/png": "[encoded data removed]",
      "text/plain": [
       "<Figure size 640x480 with 2 Axes>"
      ]
     },
     "metadata": {},
     "output_type": "display_data"
    }
   ],
   "source": [
    "seat_data = {}\n",
    "\n",
    "# Remove all candidates that have 0 votes\n",
    "for link in master_dict:\n",
    "    new_election = []\n",
    "    for election in chain_dict[master_dict[link]]:\n",
    "        new_election.append({})\n",
    "        for district in election:\n",
    "            new_election[-1][district] = {}\n",
    "            for candidate in election[district]:\n",
    "                if election[district][candidate] != 0:\n",
    "                    new_election[-1][district][candidate] = election[district][candidate]\n",
    "            \n",
    "\n",
    "    for election in new_election:\n",
    "        for district in election:\n",
    "            # Remove half of the candidates\n",
    "            election[district] = dict(list(election[district].items())[:int(len(election[district])/2)])\n",
    "            # Sort districts by number of elements\n",
    "            election[district] = dict(sorted(election[district].items(), key=lambda item: item[1], reverse=True))\n",
    "\n",
    "    # Sort the districts by number of elements and re index them\n",
    "    # District 3 should have the most candidates\n",
    "    new_election = sorted(new_election, key=lambda x: len(x[len(x)]), reverse=True)\n",
    "    for i in range(len(new_election)):\n",
    "        new_election[i] = dict(sorted(new_election[i].items(), key=lambda x: len(x[len(x)-1]), reverse=False))\n",
    "        new_election[i] = dict(enumerate(new_election[i].values(), start=1))\n",
    "    chain_dict[master_dict[link]] = new_election\n",
    "    \n",
    "    dem_seatshare = []\n",
    "    rep_seatshare = []\n",
    "    for election in new_election:\n",
    "        dem_dict = {}\n",
    "        rep_dict = {}\n",
    "        for district in election:\n",
    "            # Get the number of repubicans and democrats\n",
    "            num_dem = 0\n",
    "            num_rep = 0\n",
    "            for candidate in election[district]:\n",
    "                if candidate[0] == \"D\":\n",
    "                    num_dem += 1\n",
    "                else:\n",
    "                    num_rep += 1\n",
    "            dem_dict[district] = num_rep\n",
    "            rep_dict[district] = num_dem\n",
    "        dem_seatshare.append(dem_dict)\n",
    "        rep_seatshare.append(rep_dict)\n",
    "\n",
    "    df_dem = pd.DataFrame(dem_seatshare)\n",
    "    df_rep = pd.DataFrame(rep_seatshare)\n",
    "\n",
    "\n",
    "    # Group both boxplots together\n",
    "    fig, (ax1, ax2) = plt.subplots(1, 2)\n",
    "    ax1.yaxis.set_major_locator(MaxNLocator(integer=True))\n",
    "    ax2.yaxis.set_major_locator(MaxNLocator(integer=True))\n",
    "    \n",
    "    fig.suptitle(\"Seat Share for \" + link + \" Districts Plan\")\n",
    "    df_dem.boxplot(ax=ax1)\n",
    "    ax1.set_title(\"Democratic Seat Share\")\n",
    "    ax1.set_xlabel(\"Districts\")\n",
    "    ax1.set_ylabel(\"Number of Seats\")\n",
    "    df_rep.boxplot(ax=ax2)\n",
    "    ax2.set_title(\"Republican Seat Share\")\n",
    "    ax2.set_xlabel(\"Districts\")\n",
    "    ax2.set_ylabel(\"Number of Seats\")\n",
    "    # Add space between the two plots\n",
    "    fig.subplots_adjust(wspace=0.5)\n",
    "\n",
    "    seat_data[link] = [df_dem, df_rep]\n",
    "\n",
    "\n",
    "    # Plots only whole numbers\n",
    "\n",
    "    plt.show()\n",
    "    # print(type(plt))\n",
    "\n",
    "# Turn seat data into a dataframe\n"
   ]
  },
  {
   "cell_type": "markdown",
   "metadata": {},
   "source": [
    "# Export"
   ]
  },
  {
   "cell_type": "code",
   "execution_count": 22,
   "metadata": {},
   "outputs": [],
   "source": [
    "for reason in unique_plans:\n",
    "    plan = unique_plans[reason]\n",
    "    gdf = gpd.GeoDataFrame({\"assignment\": plan.assignment.to_series()}, geometry=plan.graph.geometry)\n",
    "    district_shapes = gdf.dissolve(by='assignment', aggfunc='sum') # Combine the precincts to form districts\n",
    "    district_shapes = district_shapes.to_crs(epsg=\"4326\")\n",
    "    district_shapes.to_file(f\"{EXPORT_PATH}/unique plans/{reason} MMD.geojson\", driver='GeoJSON')\n",
    "\n"
   ]
  },
  {
   "cell_type": "code",
   "execution_count": 23,
   "metadata": {},
   "outputs": [],
   "source": [
    "import json\n",
    "data = {}\n",
    "\n",
    "data[\"polsby_popper_scores\"] = polsby_popper_scores.mean().to_dict()\n",
    "data[\"rep_splits\"] = rep_splits.mean().to_dict()\n",
    "data[\"dem_splits\"] = dem_splits.mean().to_dict()\n",
    "data[\"black_pop\"] = black_pop.mean().to_dict()\n",
    "data[\"asian_pop\"] = asian_pop.mean().to_dict()\n",
    "data[\"hispanic_pop\"] = hisp_pop.mean().to_dict()\n",
    "data[\"white_pop\"] = white_pop.mean().to_dict()\n",
    "data[\"total_pop\"] = total_pop.mean().to_dict()\n",
    "data[\"minority_pop\"] = minority_pop.mean().to_dict()\n",
    "data[\"opportunity_reps\"] = opportunity_reps.mean()\n",
    "data[\"equal_pop\"] = equal_pop.mean().to_dict()\n",
    "data[\"dem_seat_share_percentage\"] = dem_seat_share_percentage.mean()\n",
    "data[\"dem_vote_share_percentage\"] = dem_vote_share_percentage.mean()\n",
    "data[\"black_pop_box_data\"] = black_pop_box_data.to_dict()\n",
    "data[\"asian_pop_box_data\"] = asian_pop_box_data.to_dict()\n",
    "data[\"hispanic_pop_box_data\"] = hispanic_pop_box_data.to_dict()\n",
    "data[\"white_pop_box_data\"] = white_pop_box_data.to_dict()\n",
    "data[\"total_pop_box_data\"] = total_pop_box_data.to_dict()\n",
    "for frame in seat_data:\n",
    "    data[frame + \"_dem\"] = seat_data[frame][0].to_dict()\n",
    "    data[frame + \"_rep\"] = seat_data[frame][1].to_dict()\n",
    "\n",
    "with open('nc_data.json', 'w') as outfile:\n",
    "    json.dump(data, outfile)"
   ]
  }
 ],
 "metadata": {
  "kernelspec": {
   "display_name": "Python 3 (ipykernel)",
   "language": "python",
   "name": "python3"
  },
  "language_info": {
   "codemirror_mode": {
    "name": "ipython",
    "version": 3
   },
   "file_extension": ".py",
   "mimetype": "text/x-python",
   "name": "python",
   "nbconvert_exporter": "python",
   "pygments_lexer": "ipython3",
   "version": "3.10.6"
  },
  "vscode": {
   "interpreter": {
    "hash": "b0fa6594d8f4cbf19f97940f81e996739fb7646882a419484c72d19e05852a7e"
   }
  }
 },
 "nbformat": 4,
 "nbformat_minor": 2
}
