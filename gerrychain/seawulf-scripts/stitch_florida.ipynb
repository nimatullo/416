{
 "cells": [
  {
   "cell_type": "code",
   "execution_count": 1,
   "id": "9ca876b3",
   "metadata": {},
   "outputs": [],
   "source": [
    "from gerrychain import Graph, Partition, Election, MarkovChain, proposals, updaters, constraints, accept, GeographicPartition\n",
    "from gerrychain.updaters import Tally, cut_edges\n",
    "from networkx import is_connected, connected_components\n",
    "import geopandas as gdp\n",
    "import pandas as pd\n",
    "import os"
   ]
  },
  {
   "cell_type": "code",
   "execution_count": 9,
   "id": "2bd92923",
   "metadata": {},
   "outputs": [],
   "source": [
    "default_path = os.path.join(os.getcwd(), \"..\", \"shapefiles\", \"processed\")\n",
    "path = os.path.join(default_path, \"florida\", \"precinct_level_w_election.shp\")\n",
    "# new_path = os.path.join(default_path, \"florida\", \"precinct_level_w_election_and_connected.shp\")\n",
    "json_path = os.path.join(default_path, \"florida\", \"precinct_level_w_election_and_connected.json\")\n",
    "graph = Graph.from_json(json_path)"
   ]
  },
  {
   "cell_type": "code",
   "execution_count": 11,
   "id": "515b3406",
   "metadata": {},
   "outputs": [],
   "source": [
    "FL_election = Election(\"SEN\", {\"Democratic\": \"D_VOTES\", \"Republican\": \"R_VOTES\"})"
   ]
  },
  {
   "cell_type": "code",
   "execution_count": 14,
   "id": "d44d2e54",
   "metadata": {},
   "outputs": [
    {
     "ename": "AttributeError",
     "evalue": "'Graph' object has no attribute 'geometry'",
     "output_type": "error",
     "traceback": [
      "\u001b[0;31m---------------------------------------------------------------------------\u001b[0m",
      "\u001b[0;31mAttributeError\u001b[0m                            Traceback (most recent call last)",
      "\u001b[0;32m~/anaconda3/lib/python3.9/site-packages/gerrychain/graph/graph.py\u001b[0m in \u001b[0;36m__getattribute__\u001b[0;34m(self, _FrozenGraph__name)\u001b[0m\n\u001b[1;32m    361\u001b[0m         \u001b[0;32mtry\u001b[0m\u001b[0;34m:\u001b[0m\u001b[0;34m\u001b[0m\u001b[0;34m\u001b[0m\u001b[0m\n\u001b[0;32m--> 362\u001b[0;31m             \u001b[0;32mreturn\u001b[0m \u001b[0mobject\u001b[0m\u001b[0;34m.\u001b[0m\u001b[0m__getattribute__\u001b[0m\u001b[0;34m(\u001b[0m\u001b[0mself\u001b[0m\u001b[0;34m,\u001b[0m \u001b[0m__name\u001b[0m\u001b[0;34m)\u001b[0m\u001b[0;34m\u001b[0m\u001b[0;34m\u001b[0m\u001b[0m\n\u001b[0m\u001b[1;32m    363\u001b[0m         \u001b[0;32mexcept\u001b[0m \u001b[0mAttributeError\u001b[0m\u001b[0;34m:\u001b[0m\u001b[0;34m\u001b[0m\u001b[0;34m\u001b[0m\u001b[0m\n",
      "\u001b[0;31mAttributeError\u001b[0m: 'FrozenGraph' object has no attribute 'geometry'",
      "\nDuring handling of the above exception, another exception occurred:\n",
      "\u001b[0;31mAttributeError\u001b[0m                            Traceback (most recent call last)",
      "\u001b[0;32m/tmp/ipykernel_1035/1604726225.py\u001b[0m in \u001b[0;36m<module>\u001b[0;34m\u001b[0m\n\u001b[1;32m     10\u001b[0m         \u001b[0;34m\"cut_edges\"\u001b[0m\u001b[0;34m:\u001b[0m \u001b[0mcut_edges\u001b[0m\u001b[0;34m,\u001b[0m\u001b[0;34m\u001b[0m\u001b[0;34m\u001b[0m\u001b[0m\n\u001b[1;32m     11\u001b[0m         \"SEN\": FL_election})\n\u001b[0;32m---> 12\u001b[0;31m \u001b[0mFL_init_partition\u001b[0m\u001b[0;34m.\u001b[0m\u001b[0mplot\u001b[0m\u001b[0;34m(\u001b[0m\u001b[0;34m)\u001b[0m\u001b[0;34m\u001b[0m\u001b[0;34m\u001b[0m\u001b[0m\n\u001b[0m\u001b[1;32m     13\u001b[0m \u001b[0mFL_init_partition\u001b[0m\u001b[0;34m[\u001b[0m\u001b[0;34m\"other\"\u001b[0m\u001b[0;34m]\u001b[0m\u001b[0;34m\u001b[0m\u001b[0;34m\u001b[0m\u001b[0m\n",
      "\u001b[0;32m~/anaconda3/lib/python3.9/site-packages/gerrychain/partition/partition.py\u001b[0m in \u001b[0;36mplot\u001b[0;34m(self, geometries, **kwargs)\u001b[0m\n\u001b[1;32m    157\u001b[0m         \"\"\"\n\u001b[1;32m    158\u001b[0m         \u001b[0;32mif\u001b[0m \u001b[0mgeometries\u001b[0m \u001b[0;32mis\u001b[0m \u001b[0;32mNone\u001b[0m\u001b[0;34m:\u001b[0m\u001b[0;34m\u001b[0m\u001b[0;34m\u001b[0m\u001b[0m\n\u001b[0;32m--> 159\u001b[0;31m             \u001b[0mgeometries\u001b[0m \u001b[0;34m=\u001b[0m \u001b[0mself\u001b[0m\u001b[0;34m.\u001b[0m\u001b[0mgraph\u001b[0m\u001b[0;34m.\u001b[0m\u001b[0mgeometry\u001b[0m\u001b[0;34m\u001b[0m\u001b[0;34m\u001b[0m\u001b[0m\n\u001b[0m\u001b[1;32m    160\u001b[0m \u001b[0;34m\u001b[0m\u001b[0m\n\u001b[1;32m    161\u001b[0m         \u001b[0;32mif\u001b[0m \u001b[0mset\u001b[0m\u001b[0;34m(\u001b[0m\u001b[0mgeometries\u001b[0m\u001b[0;34m.\u001b[0m\u001b[0mindex\u001b[0m\u001b[0;34m)\u001b[0m \u001b[0;34m!=\u001b[0m \u001b[0mset\u001b[0m\u001b[0;34m(\u001b[0m\u001b[0mself\u001b[0m\u001b[0;34m.\u001b[0m\u001b[0mgraph\u001b[0m\u001b[0;34m.\u001b[0m\u001b[0mnodes\u001b[0m\u001b[0;34m)\u001b[0m\u001b[0;34m:\u001b[0m\u001b[0;34m\u001b[0m\u001b[0;34m\u001b[0m\u001b[0m\n",
      "\u001b[0;32m~/anaconda3/lib/python3.9/site-packages/gerrychain/graph/graph.py\u001b[0m in \u001b[0;36m__getattribute__\u001b[0;34m(self, _FrozenGraph__name)\u001b[0m\n\u001b[1;32m    362\u001b[0m             \u001b[0;32mreturn\u001b[0m \u001b[0mobject\u001b[0m\u001b[0;34m.\u001b[0m\u001b[0m__getattribute__\u001b[0m\u001b[0;34m(\u001b[0m\u001b[0mself\u001b[0m\u001b[0;34m,\u001b[0m \u001b[0m__name\u001b[0m\u001b[0;34m)\u001b[0m\u001b[0;34m\u001b[0m\u001b[0;34m\u001b[0m\u001b[0m\n\u001b[1;32m    363\u001b[0m         \u001b[0;32mexcept\u001b[0m \u001b[0mAttributeError\u001b[0m\u001b[0;34m:\u001b[0m\u001b[0;34m\u001b[0m\u001b[0;34m\u001b[0m\u001b[0m\n\u001b[0;32m--> 364\u001b[0;31m             \u001b[0;32mreturn\u001b[0m \u001b[0mobject\u001b[0m\u001b[0;34m.\u001b[0m\u001b[0m__getattribute__\u001b[0m\u001b[0;34m(\u001b[0m\u001b[0mself\u001b[0m\u001b[0;34m.\u001b[0m\u001b[0mgraph\u001b[0m\u001b[0;34m,\u001b[0m \u001b[0m__name\u001b[0m\u001b[0;34m)\u001b[0m\u001b[0;34m\u001b[0m\u001b[0;34m\u001b[0m\u001b[0m\n\u001b[0m\u001b[1;32m    365\u001b[0m \u001b[0;34m\u001b[0m\u001b[0m\n\u001b[1;32m    366\u001b[0m     \u001b[0;32mdef\u001b[0m \u001b[0m__getitem__\u001b[0m\u001b[0;34m(\u001b[0m\u001b[0mself\u001b[0m\u001b[0;34m,\u001b[0m \u001b[0m__name\u001b[0m\u001b[0;34m:\u001b[0m \u001b[0mstr\u001b[0m\u001b[0;34m)\u001b[0m \u001b[0;34m->\u001b[0m \u001b[0mAny\u001b[0m\u001b[0;34m:\u001b[0m\u001b[0;34m\u001b[0m\u001b[0;34m\u001b[0m\u001b[0m\n",
      "\u001b[0;31mAttributeError\u001b[0m: 'Graph' object has no attribute 'geometry'"
     ]
    }
   ],
   "source": [
    "FL_init_partition = GeographicPartition(\n",
    "    graph, \n",
    "    assignment=\"CONG_DIST\", \n",
    "    updaters={\n",
    "        \"population\": Tally(\"TOT_POP\", alias=\"population\"),\n",
    "        \"white\": Tally(\"WHITE_POP\", alias=\"white\"),\n",
    "        \"black\": Tally(\"BLK_POP\", alias=\"black\"),\n",
    "        \"asian\": Tally(\"ASN_POP\", alias=\"asian\"),\n",
    "        \"hisp\": Tally(\"HSP_POP\", alias=\"hisp\"),\n",
    "        \"cut_edges\": cut_edges,\n",
    "        \"SEN\": FL_election})\n",
    "FL_init_partition.plot()\n",
    "FL_init_partition[\"other\"]"
   ]
  },
  {
   "cell_type": "code",
   "execution_count": 10,
   "id": "153410e8",
   "metadata": {},
   "outputs": [
    {
     "data": {
      "text/plain": [
       "True"
      ]
     },
     "execution_count": 10,
     "metadata": {},
     "output_type": "execute_result"
    }
   ],
   "source": [
    "is_connected(graph)"
   ]
  },
  {
   "cell_type": "code",
   "execution_count": 5,
   "id": "115136f4",
   "metadata": {},
   "outputs": [
    {
     "data": {
      "text/plain": [
       "[4790, 2, 1, 3, 3, 1, 3, 1, 2]"
      ]
     },
     "execution_count": 5,
     "metadata": {},
     "output_type": "execute_result"
    }
   ],
   "source": [
    "components = list(connected_components(graph))\n",
    "[len(c) for c in components]"
   ]
  },
  {
   "cell_type": "code",
   "execution_count": 6,
   "id": "cca01bc4",
   "metadata": {},
   "outputs": [
    {
     "data": {
      "text/plain": [
       "[4790, 2, 1, 3, 3, 1, 3, 1, 2]"
      ]
     },
     "execution_count": 6,
     "metadata": {},
     "output_type": "execute_result"
    }
   ],
   "source": [
    "biggest_component_size = max(len(c) for c in components)\n",
    "problem_components = [c for c in components if len(c) != biggest_component_size]\n",
    "for component in problem_components:\n",
    "    for node in component:\n",
    "        graph.remove_node(node)\n",
    "[len(c) for c in components]"
   ]
  },
  {
   "cell_type": "code",
   "execution_count": 7,
   "id": "76c91ff6",
   "metadata": {},
   "outputs": [
    {
     "data": {
      "text/plain": [
       "True"
      ]
     },
     "execution_count": 7,
     "metadata": {},
     "output_type": "execute_result"
    }
   ],
   "source": [
    "is_connected(graph)"
   ]
  },
  {
   "cell_type": "code",
   "execution_count": 8,
   "id": "11f66a5e",
   "metadata": {},
   "outputs": [],
   "source": [
    "graph.to_json(json_path)"
   ]
  },
  {
   "cell_type": "code",
   "execution_count": null,
   "id": "fc6723de",
   "metadata": {},
   "outputs": [],
   "source": []
  }
 ],
 "metadata": {
  "kernelspec": {
   "display_name": "Python 3 (ipykernel)",
   "language": "python",
   "name": "python3"
  },
  "language_info": {
   "codemirror_mode": {
    "name": "ipython",
    "version": 3
   },
   "file_extension": ".py",
   "mimetype": "text/x-python",
   "name": "python",
   "nbconvert_exporter": "python",
   "pygments_lexer": "ipython3",
   "version": "3.9.13"
  }
 },
 "nbformat": 4,
 "nbformat_minor": 5
}
