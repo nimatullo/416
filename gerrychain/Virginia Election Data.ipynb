{
 "cells": [
  {
   "cell_type": "code",
   "execution_count": 2,
   "id": "575fe068",
   "metadata": {},
   "outputs": [],
   "source": [
    "import geopandas as gpd\n",
    "\n",
    "precincts = gpd.read_file(\"/Users/sherzodnimatullo/Downloads/VA_precincts/VA_precincts.shp\")"
   ]
  },
  {
   "cell_type": "code",
   "execution_count": 3,
   "id": "ac1c055c",
   "metadata": {},
   "outputs": [
    {
     "name": "stdout",
     "output_type": "stream",
     "text": [
      "Rows: 2439\n"
     ]
    }
   ],
   "source": [
    "print(f\"Rows: {len(precincts)}\")"
   ]
  },
  {
   "cell_type": "code",
   "execution_count": 4,
   "id": "f1398e8d",
   "metadata": {},
   "outputs": [
    {
     "data": {
      "text/plain": [
       "Index(['precinct', 'locality', 'loc_prec', 'district', 'G18DHOR', 'G18DSEN',\n",
       "       'G18OHOR', 'G18OSEN', 'G18RHOR', 'G18RSEN', 'G17DGOV', 'G17DLTG',\n",
       "       'G17DATG', 'G17DHOD', 'G17RGOV', 'G17RLTG', 'G17RATG', 'G17RHOD',\n",
       "       'G17OHOD', 'G17OGOV', 'G16DPRS', 'G16RPRS', 'G16OPRS', 'G16DHOR',\n",
       "       'G16RHOR', 'G16OHOR', 'TOTPOP', 'NH_WHITE', 'NH_BLACK', 'NH_AMIN',\n",
       "       'NH_ASIAN', 'NH_NHPI', 'NH_OTHER', 'NH_2MORE', 'HISP', 'H_WHITE',\n",
       "       'H_BLACK', 'H_AMN', 'H_ASIAN', 'H_NHPI', 'H_OTHER', 'H_2MORE', 'VAP',\n",
       "       'HVAP', 'WVAP', 'BVAP', 'AMINVAP', 'ASIANVAP', 'NHPIVAP', 'OTHERVAP',\n",
       "       '2MOREVAP', 'CD_12', 'CD_16', 'HDIST_11', 'HDIST_REM', 'SENDIST',\n",
       "       'geometry'],\n",
       "      dtype='object')"
      ]
     },
     "execution_count": 4,
     "metadata": {},
     "output_type": "execute_result"
    }
   ],
   "source": [
    "precincts.columns"
   ]
  },
  {
   "cell_type": "code",
   "execution_count": 5,
   "id": "869f929e",
   "metadata": {},
   "outputs": [],
   "source": [
    "precincts.rename(columns={'G18DSEN': 'D_VOTES'}, inplace=True)\n",
    "precincts.rename(columns={'G18RSEN': 'R_VOTES'}, inplace=True)"
   ]
  },
  {
   "cell_type": "code",
   "execution_count": 6,
   "id": "ef677a2c",
   "metadata": {
    "scrolled": true
   },
   "outputs": [
    {
     "data": {
      "text/plain": [
       "Index(['precinct', 'locality', 'loc_prec', 'district', 'G18DHOR', 'D_VOTES',\n",
       "       'G18OHOR', 'G18OSEN', 'G18RHOR', 'R_VOTES', 'G17DGOV', 'G17DLTG',\n",
       "       'G17DATG', 'G17DHOD', 'G17RGOV', 'G17RLTG', 'G17RATG', 'G17RHOD',\n",
       "       'G17OHOD', 'G17OGOV', 'G16DPRS', 'G16RPRS', 'G16OPRS', 'G16DHOR',\n",
       "       'G16RHOR', 'G16OHOR', 'TOTPOP', 'NH_WHITE', 'NH_BLACK', 'NH_AMIN',\n",
       "       'NH_ASIAN', 'NH_NHPI', 'NH_OTHER', 'NH_2MORE', 'HISP', 'H_WHITE',\n",
       "       'H_BLACK', 'H_AMN', 'H_ASIAN', 'H_NHPI', 'H_OTHER', 'H_2MORE', 'VAP',\n",
       "       'HVAP', 'WVAP', 'BVAP', 'AMINVAP', 'ASIANVAP', 'NHPIVAP', 'OTHERVAP',\n",
       "       '2MOREVAP', 'CD_12', 'CD_16', 'HDIST_11', 'HDIST_REM', 'SENDIST',\n",
       "       'geometry'],\n",
       "      dtype='object')"
      ]
     },
     "execution_count": 6,
     "metadata": {},
     "output_type": "execute_result"
    }
   ],
   "source": [
    "precincts.columns"
   ]
  },
  {
   "cell_type": "code",
   "execution_count": 13,
   "id": "43529fa8",
   "metadata": {},
   "outputs": [
    {
     "data": {
      "text/plain": [
       "'701.0'"
      ]
     },
     "execution_count": 13,
     "metadata": {},
     "output_type": "execute_result"
    }
   ],
   "source": [
    "precincts[\"R_VOTES\"][1]"
   ]
  },
  {
   "cell_type": "code",
   "execution_count": 14,
   "id": "5ec56ac7",
   "metadata": {},
   "outputs": [],
   "source": [
    "precincts.to_file(\"/Users/sherzodnimatullo/code/projects/416/gerrychain/shapefiles/processed/va/VA_VTDs.shp\")"
   ]
  }
 ],
 "metadata": {
  "kernelspec": {
   "display_name": "env",
   "language": "python",
   "name": "env"
  },
  "language_info": {
   "codemirror_mode": {
    "name": "ipython",
    "version": 3
   },
   "file_extension": ".py",
   "mimetype": "text/x-python",
   "name": "python",
   "nbconvert_exporter": "python",
   "pygments_lexer": "ipython3",
   "version": "3.10.6"
  }
 },
 "nbformat": 4,
 "nbformat_minor": 5
}
