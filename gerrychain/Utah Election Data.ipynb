{
 "cells": [
  {
   "cell_type": "code",
   "execution_count": 28,
   "id": "f419f8ae",
   "metadata": {},
   "outputs": [],
   "source": [
    "import geopandas as gpd\n",
    "\n",
    "precincts = gpd.read_file(\"/Users/sherzodnimatullo/Downloads/UT_precincts/UT_precincts.shp\")"
   ]
  },
  {
   "cell_type": "code",
   "execution_count": 29,
   "id": "69d65b13",
   "metadata": {},
   "outputs": [
    {
     "name": "stdout",
     "output_type": "stream",
     "text": [
      "Rows : 2123\n"
     ]
    }
   ],
   "source": [
    "print(\"Rows :\", len(precincts))"
   ]
  },
  {
   "cell_type": "code",
   "execution_count": 30,
   "id": "83e34b01",
   "metadata": {},
   "outputs": [
    {
     "data": {
      "text/plain": [
       "Index(['CountyID', 'VistaID', 'PrcncID', 'SbPrcnc', 'AliasNm', 'DsslvID',\n",
       "       'cnty_nm', 'cnty_fp', 'jrsdctn', 'PRES16D', 'PRES16R', 'PRES16I',\n",
       "       'SEN16D', 'SEN16R', 'GOV16D', 'GOV16R', 'TOTPOP', 'NH_WHITE',\n",
       "       'NH_BLACK', 'NH_AMIN', 'NH_ASIAN', 'NH_NHPI', 'NH_OTHER', 'NH_2MORE',\n",
       "       'HISP', 'H_WHITE', 'H_BLACK', 'H_AMIN', 'H_ASIAN', 'H_NHPI', 'H_OTHER',\n",
       "       'H_2MORE', 'VAP', 'HVAP', 'WVAP', 'BVAP', 'AMINVAP', 'ASIANVAP',\n",
       "       'NHPIVAP', 'OTHERVAP', '2MOREVAP', 'CD', 'SENDIST', 'HDIST',\n",
       "       'geometry'],\n",
       "      dtype='object')"
      ]
     },
     "execution_count": 30,
     "metadata": {},
     "output_type": "execute_result"
    }
   ],
   "source": [
    "precincts.columns"
   ]
  },
  {
   "cell_type": "code",
   "execution_count": 31,
   "id": "1afdf45c",
   "metadata": {},
   "outputs": [],
   "source": [
    "precincts.rename(columns={'SEN16R': 'R_VOTES'}, inplace=True)\n",
    "precincts.rename(columns={'SEN16D': 'D_VOTES'}, inplace=True)"
   ]
  },
  {
   "cell_type": "code",
   "execution_count": null,
   "id": "ad0eeb4d",
   "metadata": {},
   "outputs": [],
   "source": [
    "precincts.to_file(\"/Users/sherzodnimatullo/code/projects/416/gerrychain/shapefiles/processed/utah/UTAH_VTDs.shp\")"
   ]
  }
 ],
 "metadata": {
  "kernelspec": {
   "display_name": "env",
   "language": "python",
   "name": "env"
  },
  "language_info": {
   "codemirror_mode": {
    "name": "ipython",
    "version": 3
   },
   "file_extension": ".py",
   "mimetype": "text/x-python",
   "name": "python",
   "nbconvert_exporter": "python",
   "pygments_lexer": "ipython3",
   "version": "3.10.6"
  }
 },
 "nbformat": 4,
 "nbformat_minor": 5
}
